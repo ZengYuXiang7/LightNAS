{
 "cells": [
  {
   "cell_type": "code",
   "execution_count": 20,
   "id": "c37d0215",
   "metadata": {},
   "outputs": [
    {
     "name": "stdout",
     "output_type": "stream",
     "text": [
      "Results have been saved to ./results/output_files/experiments1.xlsx\n"
     ]
    }
   ],
   "source": [
    "\n",
    "import pickle \n",
    "\n",
    "import pandas as pd\n",
    "\n",
    "models = ['flops','flops-mac']\n",
    "datasets = [\n",
    "    'desktop-cpu-core-i7-7820x-fp32',\n",
    "    # 'desktop-gpu-gtx-1080ti-fp32',\n",
    "    # 'desktop-gpu-gtx-1080ti-large',\n",
    "    # 'embedded-gpu-jetson-nono-fp16',\n",
    "    # 'embedded-tpu-edgetpu-large',\n",
    "    # 'embeeded-tpu-edgetpu-int8',\n",
    "    # 'mobile-cpu-snapdragon-450-contex-a53-int8',\n",
    "    # 'mobile-cpu-snapdragon-675-kryo-460-int8',\n",
    "    # 'mobile-cpu-snapdragon-855-kryo-485-int8',\n",
    "    # 'mobile-dsp-snapdragon-675-hexagon-685-int8',\n",
    "    # 'mobile-dsp-snapdragon-855-hexagon-690-int8',\n",
    "    # 'mobile-gpu-snapdragon-450-adreno-506-int8',\n",
    "    # 'mobile-gpu-snapdragon-675-adren0-612-int8',\n",
    "    # 'mobile-gpu-snapdragon-855-adren0-640-int8'\n",
    "]\n",
    "spliter_ratios = ['1:4:95','5:4:91','10:4:86']\n",
    "root_dir = 'results/metrics/'\n",
    "\n",
    "results = []\n",
    "\n",
    "for model in models:\n",
    "    for dataset in datasets:\n",
    "        for spliter_ratio in spliter_ratios:\n",
    "            filedir = f\"Model{model}_dstdataset{dataset}_spliterratio{spliter_ratio}_dmodel{32}\"\n",
    "            with open(root_dir + filedir + '.pkl', 'rb') as f:\n",
    "                df = pickle.load(f)\n",
    "\n",
    "            # 提取所需的列并整理为字典\n",
    "            result_dict = {\n",
    "                'Model': model,\n",
    "                'Dataset': dataset,\n",
    "                'Split Ratio': spliter_ratio,\n",
    "                'NMAE': df['NMAE'][0],  # 假设每个DataFrame只有一个值\n",
    "                'NRMSE': df['NRMSE'][0],\n",
    "                'KendallTau': df['KendallTau'][0],\n",
    "                'SpearmanRho': df['SpearmanRho'][0],\n",
    "            }\n",
    "\n",
    "            results.append(result_dict)\n",
    "\n",
    "# 将所有结果转化为DataFrame\n",
    "results_df = pd.DataFrame(results)\n",
    "\n",
    "output_files = './results/output_files/experiments1.xlsx'\n",
    "results_df.to_excel(output_files, index=False)\n",
    "\n",
    "print(f\"Results have been saved to {output_files}\")\n",
    "\n",
    "\n",
    "\n"
   ]
  },
  {
   "cell_type": "code",
   "execution_count": 14,
   "id": "76d7c393",
   "metadata": {},
   "outputs": [
    {
     "ename": "NameError",
     "evalue": "name 'output_file' is not defined",
     "output_type": "error",
     "traceback": [
      "\u001b[0;31m---------------------------------------------------------------------------\u001b[0m",
      "\u001b[0;31mNameError\u001b[0m                                 Traceback (most recent call last)",
      "\u001b[1;32m/home/rtx4090/code/python/current/LightNAS/结果自动收集.ipynb 单元格 2\u001b[0m line \u001b[0;36m5\n\u001b[1;32m     <a href='vscode-notebook-cell://ssh-remote%2B192.168.0.77/home/rtx4090/code/python/current/LightNAS/%E7%BB%93%E6%9E%9C%E8%87%AA%E5%8A%A8%E6%94%B6%E9%9B%86.ipynb#X16sdnNjb2RlLXJlbW90ZQ%3D%3D?line=49'>50</a>\u001b[0m output_files \u001b[39m=\u001b[39m \u001b[39m'\u001b[39m\u001b[39m./results/output_files/experiments1.xlsx\u001b[39m\u001b[39m'\u001b[39m\n\u001b[1;32m     <a href='vscode-notebook-cell://ssh-remote%2B192.168.0.77/home/rtx4090/code/python/current/LightNAS/%E7%BB%93%E6%9E%9C%E8%87%AA%E5%8A%A8%E6%94%B6%E9%9B%86.ipynb#X16sdnNjb2RlLXJlbW90ZQ%3D%3D?line=50'>51</a>\u001b[0m results_df\u001b[39m.\u001b[39mto_excel(output_files, index\u001b[39m=\u001b[39m\u001b[39mFalse\u001b[39;00m)\n\u001b[0;32m---> <a href='vscode-notebook-cell://ssh-remote%2B192.168.0.77/home/rtx4090/code/python/current/LightNAS/%E7%BB%93%E6%9E%9C%E8%87%AA%E5%8A%A8%E6%94%B6%E9%9B%86.ipynb#X16sdnNjb2RlLXJlbW90ZQ%3D%3D?line=52'>53</a>\u001b[0m \u001b[39mprint\u001b[39m(\u001b[39mf\u001b[39m\u001b[39m\"\u001b[39m\u001b[39mResults have been saved to \u001b[39m\u001b[39m{\u001b[39;00moutput_file\u001b[39m}\u001b[39;00m\u001b[39m\"\u001b[39m)\n",
      "\u001b[0;31mNameError\u001b[0m: name 'output_file' is not defined"
     ]
    }
   ],
   "source": [
    "\n",
    "\n"
   ]
  },
  {
   "cell_type": "code",
   "execution_count": null,
   "id": "2419c86d",
   "metadata": {},
   "outputs": [],
   "source": [
    "'gat'"
   ]
  },
  {
   "cell_type": "code",
   "execution_count": 21,
   "id": "e2a8583a",
   "metadata": {},
   "outputs": [
    {
     "name": "stdout",
     "output_type": "stream",
     "text": [
      "Results have been saved to ./results/output_files/experiments2.xlsx\n"
     ]
    }
   ],
   "source": [
    "import pickle \n",
    "\n",
    "import pandas as pd\n",
    "\n",
    "models = ['gru','lstm','brp-nas']\n",
    "datasets = [\n",
    "    'desktop-cpu-core-i7-7820x-fp32',\n",
    "    # 'desktop-gpu-gtx-1080ti-fp32',\n",
    "    # 'desktop-gpu-gtx-1080ti-large',\n",
    "    # 'embedded-gpu-jetson-nono-fp16',\n",
    "    # 'embedded-tpu-edgetpu-large',\n",
    "    # 'embeeded-tpu-edgetpu-int8',\n",
    "    # 'mobile-cpu-snapdragon-450-contex-a53-int8',\n",
    "    # 'mobile-cpu-snapdragon-675-kryo-460-int8',\n",
    "    # 'mobile-cpu-snapdragon-855-kryo-485-int8',\n",
    "    # 'mobile-dsp-snapdragon-675-hexagon-685-int8',\n",
    "    # 'mobile-dsp-snapdragon-855-hexagon-690-int8',\n",
    "    # 'mobile-gpu-snapdragon-450-adreno-506-int8',\n",
    "    # 'mobile-gpu-snapdragon-675-adren0-612-int8',\n",
    "    # 'mobile-gpu-snapdragon-855-adren0-640-int8'\n",
    "]\n",
    "spliter_ratios = ['1:4:95','5:4:91','10:4:86']\n",
    "root_dir = 'results/metrics/'\n",
    "\n",
    "results = []\n",
    "\n",
    "for model in models:\n",
    "    for dataset in datasets:\n",
    "        for spliter_ratio in spliter_ratios:\n",
    "            filedir = f\"Model{model}_dstdataset{dataset}_spliterratio{spliter_ratio}_dmodel{64}\"\n",
    "            with open(root_dir + filedir + '.pkl', 'rb') as f:\n",
    "                df = pickle.load(f)\n",
    "\n",
    "            # 提取所需的列并整理为字典\n",
    "            result_dict = {\n",
    "                'Model': model,\n",
    "                'Dataset': dataset,\n",
    "                'Split Ratio': spliter_ratio,\n",
    "                'NMAE': df['NMAE'][0],  # 假设每个DataFrame只有一个值\n",
    "                'NRMSE': df['NRMSE'][0],\n",
    "                'KendallTau': df['KendallTau'][0],\n",
    "                'SpearmanRho': df['SpearmanRho'][0],\n",
    "            }\n",
    "\n",
    "            results.append(result_dict)\n",
    "\n",
    "# 将所有结果转化为DataFrame\n",
    "results_df = pd.DataFrame(results)\n",
    "\n",
    "output_files = './results/output_files/experiments2.xlsx'\n",
    "results_df.to_excel(output_files, index=False)\n",
    "\n",
    "print(f\"Results have been saved to {output_files}\")\n",
    "\n"
   ]
  },
  {
   "cell_type": "code",
   "execution_count": 22,
   "id": "26d72e81",
   "metadata": {},
   "outputs": [
    {
     "name": "stdout",
     "output_type": "stream",
     "text": [
      "Results have been saved to ./results/output_files/experiments3.xlsx\n"
     ]
    }
   ],
   "source": [
    "import pickle \n",
    "\n",
    "import pandas as pd\n",
    "\n",
    "models = ['narformer']\n",
    "datasets = [\n",
    "    'desktop-cpu-core-i7-7820x-fp32',\n",
    "    # 'desktop-gpu-gtx-1080ti-fp32',\n",
    "    # 'desktop-gpu-gtx-1080ti-large',\n",
    "    # 'embedded-gpu-jetson-nono-fp16',\n",
    "    # 'embedded-tpu-edgetpu-large',\n",
    "    # 'embeeded-tpu-edgetpu-int8',\n",
    "    # 'mobile-cpu-snapdragon-450-contex-a53-int8',\n",
    "    # 'mobile-cpu-snapdragon-675-kryo-460-int8',\n",
    "    # 'mobile-cpu-snapdragon-855-kryo-485-int8',\n",
    "    # 'mobile-dsp-snapdragon-675-hexagon-685-int8',\n",
    "    # 'mobile-dsp-snapdragon-855-hexagon-690-int8',\n",
    "    # 'mobile-gpu-snapdragon-450-adreno-506-int8',\n",
    "    # 'mobile-gpu-snapdragon-675-adren0-612-int8',\n",
    "    # 'mobile-gpu-snapdragon-855-adren0-640-int8'\n",
    "]\n",
    "spliter_ratios = ['1:4:95','5:4:91','10:4:86']\n",
    "root_dir = 'results/metrics/'\n",
    "\n",
    "results = []\n",
    "\n",
    "for model in models:\n",
    "    for dataset in datasets:\n",
    "        for spliter_ratio in spliter_ratios:\n",
    "            filedir = f\"Model{model}_dstdataset{dataset}_spliterratio{spliter_ratio}_dmodel{192}\"\n",
    "            with open(root_dir + filedir + '.pkl', 'rb') as f:\n",
    "                df = pickle.load(f)\n",
    "\n",
    "            # 提取所需的列并整理为字典\n",
    "            result_dict = {\n",
    "                'Model': model,\n",
    "                'Dataset': dataset,\n",
    "                'Split Ratio': spliter_ratio,\n",
    "                'NMAE': df['NMAE'][0],  # 假设每个DataFrame只有一个值\n",
    "                'NRMSE': df['NRMSE'][0],\n",
    "                'KendallTau': df['KendallTau'][0],\n",
    "                'SpearmanRho': df['SpearmanRho'][0],\n",
    "            }\n",
    "\n",
    "            results.append(result_dict)\n",
    "\n",
    "# 将所有结果转化为DataFrame\n",
    "results_df = pd.DataFrame(results)\n",
    "\n",
    "output_files = './results/output_files/experiments3.xlsx'\n",
    "results_df.to_excel(output_files, index=False)\n",
    "\n",
    "print(f\"Results have been saved to {output_files}\")\n",
    "\n"
   ]
  }
 ],
 "metadata": {
  "kernelspec": {
   "display_name": "base",
   "language": "python",
   "name": "python3"
  },
  "language_info": {
   "codemirror_mode": {
    "name": "ipython",
    "version": 3
   },
   "file_extension": ".py",
   "mimetype": "text/x-python",
   "name": "python",
   "nbconvert_exporter": "python",
   "pygments_lexer": "ipython3",
   "version": "3.12.4"
  }
 },
 "nbformat": 4,
 "nbformat_minor": 5
}
