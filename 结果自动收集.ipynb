{
 "cells": [
  {
   "cell_type": "code",
   "execution_count": null,
   "id": "c37d0215",
   "metadata": {},
   "outputs": [],
   "source": [
    "\n",
    "\n",
    "\n"
   ]
  },
  {
   "cell_type": "code",
   "execution_count": 19,
   "id": "76d7c393",
   "metadata": {},
   "outputs": [
    {
     "data": {
      "text/plain": [
       "([0.22422845181014378],\n",
       " [0.26183870976029006],\n",
       " [0.658564431750524],\n",
       " [0.8679566181695826],\n",
       " [0.7415346633762447])"
      ]
     },
     "execution_count": 19,
     "metadata": {},
     "output_type": "execute_result"
    }
   ],
   "source": [
    "import pickle \n",
    "\n",
    "models = ['gnn']\n",
    "datasets = [\n",
    "    'desktop-cpu-core-i7-7820x-fp32',\n",
    "    'desktop-gpu-gtx-1080ti-fp32',\n",
    "    'desktop-gpu-gtx-1080ti-large',\n",
    "    'embedded-gpu-jetson-nono-fp16',\n",
    "    'embedded-tpu-edgetpu-large',\n",
    "    'embeeded-tpu-edgetpu-int8',\n",
    "    'mobile-cpu-snapdragon-450-contex-a53-int8',\n",
    "    'mobile-cpu-snapdragon-675-kryo-460-int8',\n",
    "    'mobile-cpu-snapdragon-855-kryo-485-int8',\n",
    "    'mobile-dsp-snapdragon-675-hexagon-685-int8',\n",
    "    'mobile-dsp-snapdragon-855-hexagon-690-int8',\n",
    "    'mobile-gpu-snapdragon-450-adreno-506-int8',\n",
    "    'mobile-gpu-snapdragon-675-adren0-612-int8',\n",
    "    'mobile-gpu-snapdragon-855-adren0-640-int8'\n",
    "]\n",
    "spliter_ratios = ['1:4:95','5:4:91','10:4:86']\n",
    "root_dir = 'results/metrics/'\n",
    "\n",
    "results = []\n",
    "\n",
    "for model in models:\n",
    "    for dataset in datasets:\n",
    "        for spliter_ratio in spliter_ratios:\n",
    "            filedir = f\"Model{model}_dstdataset{dataset}_spliterratio{spliter_ratio}_dmodel{64}\"\n",
    "            with open(root_dir + filedir + '.pkl', 'rb') as f:\n",
    "                df = pickle.load(f)\n",
    "            # 提取所需的列并整理为字典\n",
    "            result_dict = {\n",
    "                'Model': model,\n",
    "                'Dataset': dataset,\n",
    "                'Split Ratio': spliter_ratio,\n",
    "                'NMAE': df['NMAE'].values[0],  # 假设每个DataFrame只有一个值\n",
    "                'NRMSE': df['NRMSE'].values[0],\n",
    "                'KendallTau': df['KendallTau'].values[0],\n",
    "                'SpearmanRho': df['SpearmanRho'].values[0],\n",
    "                'NDCG': df['NDCG'].values[0]\n",
    "            }\n",
    "\n",
    "            results.append(result_dict)\n",
    "\n",
    "# 将所有结果转化为DataFrame\n",
    "results_df = pd.DataFrame(results)\n",
    "\n",
    "output_files = '/results/output_files/experiments1.xlsx'\n",
    "results_df.to_excel(output_file, index=False)\n",
    "\n",
    "print(f\"Results have been saved to {output_file}\")"
   ]
  },
  {
   "cell_type": "code",
   "execution_count": null,
   "id": "2419c86d",
   "metadata": {},
   "outputs": [],
   "source": []
  },
  {
   "cell_type": "code",
   "execution_count": null,
   "id": "e2a8583a",
   "metadata": {},
   "outputs": [],
   "source": []
  }
 ],
 "metadata": {
  "kernelspec": {
   "display_name": "base",
   "language": "python",
   "name": "python3"
  },
  "language_info": {
   "codemirror_mode": {
    "name": "ipython",
    "version": 3
   },
   "file_extension": ".py",
   "mimetype": "text/x-python",
   "name": "python",
   "nbconvert_exporter": "python",
   "pygments_lexer": "ipython3",
   "version": "3.12.4"
  }
 },
 "nbformat": 4,
 "nbformat_minor": 5
}
