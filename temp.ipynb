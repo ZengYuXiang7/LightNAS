{
 "cells": [
  {
   "cell_type": "code",
   "execution_count": 1,
   "id": "f13bd9c0",
   "metadata": {},
   "outputs": [
    {
     "data": {
      "text/plain": [
       "array([3., 4., 2., 2., 4., 2.])"
      ]
     },
     "execution_count": 1,
     "metadata": {},
     "output_type": "execute_result"
    }
   ],
   "source": [
    "import pickle \n",
    "import numpy as np \n",
    "import dgl\n",
    "import torch\n",
    "from scipy.sparse import csr_matrix\n",
    "\n",
    "with open('./datasets/nasbench201/pkl/desktop-cpu-core-i7-7820x-fp32.pkl', 'rb') as f:\n",
    "    df = pickle.load(f)\n",
    "df[9600][:-1]"
   ]
  },
  {
   "cell_type": "code",
   "execution_count": null,
   "id": "49cb5ea9",
   "metadata": {},
   "outputs": [],
   "source": []
  },
  {
   "cell_type": "code",
   "execution_count": 22,
   "id": "23fe291f",
   "metadata": {},
   "outputs": [
    {
     "data": {
      "text/plain": [
       "([0, 2, 3, 1, 1, 3, 1, 6], torch.Size([9, 60]))"
      ]
     },
     "execution_count": 22,
     "metadata": {},
     "output_type": "execute_result"
    }
   ],
   "source": [
    "from modules.tokenizer import tokenizer \n",
    "from data_provider.create_latency import *\n",
    "from scipy.sparse import csr_matrix\n",
    "import dgl \n",
    "\n",
    "def info2mat(arch_str):\n",
    "    ops = {'input':0, 'nor_conv_1x1':1, 'nor_conv_3x3':2, 'avg_pool_3x3':3, 'skip_connect':4, 'none':5, 'output':6}\n",
    "    adj_mat = np.array([[0, 1, 1, 0, 1, 0, 0, 0],\n",
    "                        [0, 0, 0, 1, 0, 1 ,0 ,0],\n",
    "                        [0, 0, 0, 0, 0, 0, 1, 0],\n",
    "                        [0, 0, 0, 0, 0, 0, 1, 0],\n",
    "                        [0, 0, 0, 0, 0, 0, 0, 1],\n",
    "                        [0, 0, 0, 0, 0, 0, 0, 1],\n",
    "                        [0, 0, 0, 0, 0, 0, 0, 1],\n",
    "                        [0, 0, 0, 0, 0, 0, 0, 0]])\n",
    "\n",
    "    nodes = ['input']\n",
    "    steps = arch_str.split('+')\n",
    "    steps_coding = ['0', '0', '1', '0', '1', '2']\n",
    "    cont = 0\n",
    "    for step in steps:\n",
    "        step = step.strip('|').split('|')\n",
    "        for node in step:\n",
    "            n, idx = node.split('~') #n: operation, idx: previous node\n",
    "            assert idx == steps_coding[cont]\n",
    "            cont += 1\n",
    "            nodes.append(n)\n",
    "    nodes.append('output')\n",
    "\n",
    "    node_mat =np.zeros([8, len(ops)]).astype(int)\n",
    "    ops_idx = [ops[k] for k in nodes]\n",
    "    node_mat[[0,1,2,3,4,5,6,7], ops_idx] = 1\n",
    "    return ops_idx\n",
    "\n",
    "from data_provider.create_latency import get_arch_str_from_arch_vector\n",
    "key = df[9600][:-1]\n",
    "arch_str = get_arch_str_from_arch_vector(key)\n",
    "graph, one_hot_idx = get_matrix_and_ops(key)\n",
    "ops_idx = info2mat(arch_str)\n",
    "dx = dr = dp = 10\n",
    "token = tokenizer(ops_idx, graph, dx, dr, dp, 'nerf')\n",
    "ops_idx, token.shape"
   ]
  },
  {
   "cell_type": "code",
   "execution_count": 24,
   "id": "06dfbe2a",
   "metadata": {},
   "outputs": [
    {
     "data": {
      "text/plain": [
       "array([[0, 1, 1, 0, 1, 0, 0, 0],\n",
       "       [0, 0, 0, 1, 0, 1, 0, 0],\n",
       "       [0, 0, 0, 0, 0, 0, 1, 0],\n",
       "       [0, 0, 0, 0, 0, 0, 1, 0],\n",
       "       [0, 0, 0, 0, 0, 0, 0, 1],\n",
       "       [0, 0, 0, 0, 0, 0, 0, 1],\n",
       "       [0, 0, 0, 0, 0, 0, 0, 1],\n",
       "       [0, 0, 0, 0, 0, 0, 0, 0]])"
      ]
     },
     "execution_count": 24,
     "metadata": {},
     "output_type": "execute_result"
    }
   ],
   "source": [
    "graph"
   ]
  },
  {
   "cell_type": "code",
   "execution_count": 10,
   "id": "d5c48f86",
   "metadata": {},
   "outputs": [],
   "source": [
    "import torch\n",
    "import numpy as np\n",
    "# 读取文件\n",
    "data = torch.load('datasets/nasbench201/others/all_nasbench201.pt', weights_only=True)"
   ]
  },
  {
   "cell_type": "code",
   "execution_count": 11,
   "id": "7def113c",
   "metadata": {},
   "outputs": [
    {
     "name": "stdout",
     "output_type": "stream",
     "text": [
      "11934\n"
     ]
    },
    {
     "data": {
      "text/plain": [
       "({'index': 11934,\n",
       "  'adj': [[0, 1, 1, 0, 1, 0, 0, 0],\n",
       "   [0, 0, 0, 1, 0, 1, 0, 0],\n",
       "   [0, 0, 0, 0, 0, 0, 1, 0],\n",
       "   [0, 0, 0, 0, 0, 0, 1, 0],\n",
       "   [0, 0, 0, 0, 0, 0, 0, 1],\n",
       "   [0, 0, 0, 0, 0, 0, 0, 1],\n",
       "   [0, 0, 0, 0, 0, 0, 0, 1],\n",
       "   [0, 0, 0, 0, 0, 0, 0, 0]],\n",
       "  'ops': [0, 3, 4, 2, 2, 4, 2, 6],\n",
       "  'training_time': 131.4312922358513,\n",
       "  'test_accuracy': 74.19,\n",
       "  'test_accuracy_avg': 74.19,\n",
       "  'valid_accuracy': 74.47600001220704,\n",
       "  'valid_accuracy_avg': 74.47600001220704,\n",
       "  'netcode': tensor([[ 0.0000e+00,  1.0000e+00,  0.0000e+00,  ...,  9.9989e-01,\n",
       "            6.8643e-01,  7.2720e-01],\n",
       "          [-2.3850e-08, -1.0000e+00,  5.2630e-01,  ...,  1.0000e+00,\n",
       "            0.0000e+00,  1.0000e+00],\n",
       "          [ 3.4969e-07,  1.0000e+00, -9.7689e-01,  ...,  1.0000e+00,\n",
       "            0.0000e+00,  1.0000e+00],\n",
       "          ...,\n",
       "          [ 1.7485e-07,  1.0000e+00,  6.2701e-01,  ...,  1.8229e-02,\n",
       "           -1.8406e-01,  6.3810e-01],\n",
       "          [ 4.7700e-08,  1.0000e+00,  8.9502e-01,  ...,  9.2416e-01,\n",
       "            1.7024e-01, -5.6822e-01],\n",
       "          [ 1.5890e-02,  9.9987e-01,  4.0127e-01,  ..., -8.1017e-01,\n",
       "           -2.2523e-01,  9.7431e-01]])},)"
      ]
     },
     "execution_count": 11,
     "metadata": {},
     "output_type": "execute_result"
    }
   ],
   "source": [
    "for i in range(len(data)):\n",
    "    if data[i]['ops'][1:-1] == [3, 4, 2, 2, 4, 2]:\n",
    "        print(i)\n",
    "        break\n",
    "data[i], "
   ]
  },
  {
   "cell_type": "code",
   "execution_count": null,
   "id": "803dd425",
   "metadata": {},
   "outputs": [
    {
     "ename": "ModuleNotFoundError",
     "evalue": "No module named 'datasets.nasbench201'",
     "output_type": "error",
     "traceback": [
      "\u001b[0;31m---------------------------------------------------------------------------\u001b[0m",
      "\u001b[0;31mModuleNotFoundError\u001b[0m                       Traceback (most recent call last)",
      "Cell \u001b[0;32mIn[2], line 3\u001b[0m\n\u001b[1;32m      1\u001b[0m \u001b[38;5;28;01mfrom\u001b[39;00m \u001b[38;5;21;01mdata_provider\u001b[39;00m\u001b[38;5;21;01m.\u001b[39;00m\u001b[38;5;21;01mcreate_latency\u001b[39;00m \u001b[38;5;28;01mimport\u001b[39;00m get_arch_str_from_arch_vector\n\u001b[0;32m----> 3\u001b[0m \u001b[38;5;28;01mfrom\u001b[39;00m \u001b[38;5;21;01mdatasets\u001b[39;00m\u001b[38;5;21;01m.\u001b[39;00m\u001b[38;5;21;01mnasbench201\u001b[39;00m\u001b[38;5;21;01m.\u001b[39;00m\u001b[38;5;21;01mothers\u001b[39;00m \u001b[38;5;28;01mimport\u001b[39;00m nas_201_api \u001b[38;5;28;01mas\u001b[39;00m API\n\u001b[1;32m      4\u001b[0m api \u001b[38;5;241m=\u001b[39m API(\u001b[38;5;124m'\u001b[39m\u001b[38;5;124mdatasets/nasbench201/others/NAS-Bench-201-v1_0-e61699.pth\u001b[39m\u001b[38;5;124m'\u001b[39m, verbose\u001b[38;5;241m=\u001b[39m\u001b[38;5;28;01mFalse\u001b[39;00m)\n\u001b[1;32m      5\u001b[0m arch_str \u001b[38;5;241m=\u001b[39m get_arch_str_from_arch_vector([\u001b[38;5;241m1\u001b[39m, \u001b[38;5;241m2\u001b[39m, \u001b[38;5;241m0\u001b[39m, \u001b[38;5;241m2\u001b[39m, \u001b[38;5;241m1\u001b[39m])             \u001b[38;5;66;03m# 架构向量转字符串\u001b[39;00m\n",
      "\u001b[0;31mModuleNotFoundError\u001b[0m: No module named 'datasets.nasbench201'"
     ]
    }
   ],
   "source": [
    "def get_arch_str_from_arch_vector(arch_vector):\n",
    "    _opname_to_index = {\n",
    "        'none': 0,\n",
    "        'skip_connect': 1,\n",
    "        'nor_conv_1x1': 2,\n",
    "        'nor_conv_3x3': 3,\n",
    "        'avg_pool_3x3': 4,\n",
    "        'input': 5,\n",
    "        'output': 6,\n",
    "        'global': 7\n",
    "    }\n",
    "    _opindex_to_name = {value: key for key, value in _opname_to_index.items()}\n",
    "    ops = [_opindex_to_name[opindex] for opindex in arch_vector]\n",
    "    return '|{}~0|+|{}~0|{}~1|+|{}~0|{}~1|{}~2|'.format(*ops)\n",
    "\n",
    "from datasets.nasbench201.others import nas_201_api as API\n",
    "api = API('datasets/nasbench201/others/NAS-Bench-201-v1_0-e61699.pth', verbose=False)\n",
    "arch_str = get_arch_str_from_arch_vector([1, 2, 0, 2, 1])             # 架构向量转字符串\n",
    "index = api.query_index_by_arch(arch_str)\n",
    "cost_info = api.get_cost_info(index, dataset='cifar10-valid')  # 或 'cifar10', 'cifar100'\n",
    "\n",
    "flops = cost_info['flops']      # 单位: M\n",
    "params = cost_info['params']    # 单位: MB\n",
    "flops, params"
   ]
  },
  {
   "cell_type": "code",
   "execution_count": null,
   "id": "ad95e7b3",
   "metadata": {},
   "outputs": [],
   "source": []
  }
 ],
 "metadata": {
  "kernelspec": {
   "display_name": "base",
   "language": "python",
   "name": "python3"
  },
  "language_info": {
   "codemirror_mode": {
    "name": "ipython",
    "version": 3
   },
   "file_extension": ".py",
   "mimetype": "text/x-python",
   "name": "python",
   "nbconvert_exporter": "python",
   "pygments_lexer": "ipython3",
   "version": "3.12.4"
  }
 },
 "nbformat": 4,
 "nbformat_minor": 5
}
