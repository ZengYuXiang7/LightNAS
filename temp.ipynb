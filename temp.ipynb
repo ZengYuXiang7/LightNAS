{
 "cells": [
  {
   "cell_type": "code",
   "execution_count": 1,
   "id": "f13bd9c0",
   "metadata": {},
   "outputs": [
    {
     "data": {
      "text/plain": [
       "array([3., 4., 2., 2., 4., 2.])"
      ]
     },
     "execution_count": 1,
     "metadata": {},
     "output_type": "execute_result"
    }
   ],
   "source": [
    "import pickle \n",
    "import numpy as np \n",
    "import dgl\n",
    "import torch\n",
    "from scipy.sparse import csr_matrix\n",
    "\n",
    "with open('./datasets/nasbench201/pkl/desktop-cpu-core-i7-7820x-fp32.pkl', 'rb') as f:\n",
    "    df = pickle.load(f)\n",
    "df[9600][:-1]"
   ]
  },
  {
   "cell_type": "code",
   "execution_count": null,
   "id": "49cb5ea9",
   "metadata": {},
   "outputs": [],
   "source": []
  },
  {
   "cell_type": "code",
   "execution_count": 22,
   "id": "23fe291f",
   "metadata": {},
   "outputs": [
    {
     "data": {
      "text/plain": [
       "([0, 2, 3, 1, 1, 3, 1, 6], torch.Size([9, 60]))"
      ]
     },
     "execution_count": 22,
     "metadata": {},
     "output_type": "execute_result"
    }
   ],
   "source": [
    "from modules.tokenizer import tokenizer \n",
    "from data_provider.create_latency import *\n",
    "from scipy.sparse import csr_matrix\n",
    "import dgl \n",
    "\n",
    "def info2mat(arch_str):\n",
    "    ops = {'input':0, 'nor_conv_1x1':1, 'nor_conv_3x3':2, 'avg_pool_3x3':3, 'skip_connect':4, 'none':5, 'output':6}\n",
    "    adj_mat = np.array([[0, 1, 1, 0, 1, 0, 0, 0],\n",
    "                        [0, 0, 0, 1, 0, 1 ,0 ,0],\n",
    "                        [0, 0, 0, 0, 0, 0, 1, 0],\n",
    "                        [0, 0, 0, 0, 0, 0, 1, 0],\n",
    "                        [0, 0, 0, 0, 0, 0, 0, 1],\n",
    "                        [0, 0, 0, 0, 0, 0, 0, 1],\n",
    "                        [0, 0, 0, 0, 0, 0, 0, 1],\n",
    "                        [0, 0, 0, 0, 0, 0, 0, 0]])\n",
    "\n",
    "    nodes = ['input']\n",
    "    steps = arch_str.split('+')\n",
    "    steps_coding = ['0', '0', '1', '0', '1', '2']\n",
    "    cont = 0\n",
    "    for step in steps:\n",
    "        step = step.strip('|').split('|')\n",
    "        for node in step:\n",
    "            n, idx = node.split('~') #n: operation, idx: previous node\n",
    "            assert idx == steps_coding[cont]\n",
    "            cont += 1\n",
    "            nodes.append(n)\n",
    "    nodes.append('output')\n",
    "\n",
    "    node_mat =np.zeros([8, len(ops)]).astype(int)\n",
    "    ops_idx = [ops[k] for k in nodes]\n",
    "    node_mat[[0,1,2,3,4,5,6,7], ops_idx] = 1\n",
    "    return ops_idx\n",
    "\n",
    "from data_provider.create_latency import get_arch_str_from_arch_vector\n",
    "key = df[9600][:-1]\n",
    "arch_str = get_arch_str_from_arch_vector(key)\n",
    "graph, one_hot_idx = get_matrix_and_ops(key)\n",
    "ops_idx = info2mat(arch_str)\n",
    "dx = dr = dp = 10\n",
    "token = tokenizer(ops_idx, graph, dx, dr, dp, 'nerf')\n",
    "ops_idx, token.shape"
   ]
  },
  {
   "cell_type": "code",
   "execution_count": 24,
   "id": "06dfbe2a",
   "metadata": {},
   "outputs": [
    {
     "data": {
      "text/plain": [
       "array([[0, 1, 1, 0, 1, 0, 0, 0],\n",
       "       [0, 0, 0, 1, 0, 1, 0, 0],\n",
       "       [0, 0, 0, 0, 0, 0, 1, 0],\n",
       "       [0, 0, 0, 0, 0, 0, 1, 0],\n",
       "       [0, 0, 0, 0, 0, 0, 0, 1],\n",
       "       [0, 0, 0, 0, 0, 0, 0, 1],\n",
       "       [0, 0, 0, 0, 0, 0, 0, 1],\n",
       "       [0, 0, 0, 0, 0, 0, 0, 0]])"
      ]
     },
     "execution_count": 24,
     "metadata": {},
     "output_type": "execute_result"
    }
   ],
   "source": [
    "graph"
   ]
  },
  {
   "cell_type": "code",
   "execution_count": 19,
   "id": "58d60844",
   "metadata": {},
   "outputs": [
    {
     "ename": "DGLError",
     "evalue": "Expect the number of rows to be the same as the number of columns for sp_mat, got 8 and 7.",
     "output_type": "error",
     "traceback": [
      "\u001b[0;31m---------------------------------------------------------------------------\u001b[0m",
      "\u001b[0;31mDGLError\u001b[0m                                  Traceback (most recent call last)",
      "Cell \u001b[0;32mIn[19], line 1\u001b[0m\n\u001b[0;32m----> 1\u001b[0m graph \u001b[38;5;241m=\u001b[39m dgl\u001b[38;5;241m.\u001b[39mfrom_scipy(csr_matrix(graph))\n\u001b[1;32m      2\u001b[0m graph \u001b[38;5;241m=\u001b[39m dgl\u001b[38;5;241m.\u001b[39mto_bidirected(graph)\n\u001b[1;32m      3\u001b[0m features \u001b[38;5;241m=\u001b[39m torch\u001b[38;5;241m.\u001b[39mtensor(ops_idx)\u001b[38;5;241m.\u001b[39mlong()\n",
      "File \u001b[0;32m~/anaconda3/lib/python3.12/site-packages/dgl/convert.py:1135\u001b[0m, in \u001b[0;36mfrom_scipy\u001b[0;34m(sp_mat, eweight_name, idtype, device)\u001b[0m\n\u001b[1;32m   1133\u001b[0m num_cols \u001b[38;5;241m=\u001b[39m sp_mat\u001b[38;5;241m.\u001b[39mshape[\u001b[38;5;241m1\u001b[39m]\n\u001b[1;32m   1134\u001b[0m \u001b[38;5;28;01mif\u001b[39;00m num_rows \u001b[38;5;241m!=\u001b[39m num_cols:\n\u001b[0;32m-> 1135\u001b[0m     \u001b[38;5;28;01mraise\u001b[39;00m DGLError(\n\u001b[1;32m   1136\u001b[0m         \u001b[38;5;124m\"\u001b[39m\u001b[38;5;124mExpect the number of rows to be the same as the number of columns for \u001b[39m\u001b[38;5;124m\"\u001b[39m\n\u001b[1;32m   1137\u001b[0m         \u001b[38;5;124m\"\u001b[39m\u001b[38;5;124msp_mat, got \u001b[39m\u001b[38;5;132;01m{:d}\u001b[39;00m\u001b[38;5;124m and \u001b[39m\u001b[38;5;132;01m{:d}\u001b[39;00m\u001b[38;5;124m.\u001b[39m\u001b[38;5;124m\"\u001b[39m\u001b[38;5;241m.\u001b[39mformat(num_rows, num_cols)\n\u001b[1;32m   1138\u001b[0m     )\n\u001b[1;32m   1140\u001b[0m (sparse_fmt, arrays), urange, vrange \u001b[38;5;241m=\u001b[39m utils\u001b[38;5;241m.\u001b[39mgraphdata2tensors(\n\u001b[1;32m   1141\u001b[0m     sp_mat, idtype\n\u001b[1;32m   1142\u001b[0m )\n\u001b[1;32m   1143\u001b[0m g \u001b[38;5;241m=\u001b[39m create_from_edges(sparse_fmt, arrays, \u001b[38;5;124m\"\u001b[39m\u001b[38;5;124m_N\u001b[39m\u001b[38;5;124m\"\u001b[39m, \u001b[38;5;124m\"\u001b[39m\u001b[38;5;124m_E\u001b[39m\u001b[38;5;124m\"\u001b[39m, \u001b[38;5;124m\"\u001b[39m\u001b[38;5;124m_N\u001b[39m\u001b[38;5;124m\"\u001b[39m, urange, vrange)\n",
      "\u001b[0;31mDGLError\u001b[0m: Expect the number of rows to be the same as the number of columns for sp_mat, got 8 and 7."
     ]
    }
   ],
   "source": [
    "graph = dgl.from_scipy(csr_matrix(graph))\n",
    "graph = dgl.to_bidirected(graph)\n",
    "features = torch.tensor(ops_idx).long()\n",
    "op_idx = torch.argmax(features, dim=1)"
   ]
  },
  {
   "cell_type": "code",
   "execution_count": null,
   "id": "70c0c294",
   "metadata": {},
   "outputs": [],
   "source": []
  },
  {
   "cell_type": "code",
   "execution_count": null,
   "id": "1dbfba71",
   "metadata": {},
   "outputs": [
    {
     "data": {
      "text/plain": [
       "array([[0, 0, 0, 0, 1, 0, 0, 0],\n",
       "       [0, 0, 0, 0, 0, 0, 0, 0],\n",
       "       [0, 0, 0, 0, 0, 0, 0, 0],\n",
       "       [0, 0, 0, 0, 0, 0, 0, 0],\n",
       "       [0, 0, 0, 0, 0, 0, 0, 1],\n",
       "       [0, 0, 0, 0, 0, 0, 0, 0],\n",
       "       [0, 0, 0, 0, 0, 0, 0, 0],\n",
       "       [0, 0, 0, 0, 0, 0, 0, 0]])"
      ]
     },
     "execution_count": 19,
     "metadata": {},
     "output_type": "execute_result"
    }
   ],
   "source": [
    "\n",
    "key = df[0][:-1]\n",
    "graph, one_hot_idx = get_matrix_and_ops(key)\n",
    "# graph, op_idx = get_adjacency_and_features(graph, one_hot_idx)\n",
    "graph"
   ]
  },
  {
   "cell_type": "code",
   "execution_count": 17,
   "id": "0ec408b5",
   "metadata": {},
   "outputs": [
    {
     "data": {
      "text/plain": [
       "((9, 9), (9, 6))"
      ]
     },
     "execution_count": 17,
     "metadata": {},
     "output_type": "execute_result"
    }
   ],
   "source": [
    "graph.shape, op_idx.shape"
   ]
  },
  {
   "cell_type": "code",
   "execution_count": 10,
   "id": "d5c48f86",
   "metadata": {},
   "outputs": [],
   "source": [
    "import torch\n",
    "import numpy as np\n",
    "# 读取文件\n",
    "data = torch.load('datasets/nasbench201/others/all_nasbench201.pt', weights_only=True)"
   ]
  },
  {
   "cell_type": "code",
   "execution_count": 11,
   "id": "7def113c",
   "metadata": {},
   "outputs": [
    {
     "name": "stdout",
     "output_type": "stream",
     "text": [
      "11934\n"
     ]
    },
    {
     "data": {
      "text/plain": [
       "({'index': 11934,\n",
       "  'adj': [[0, 1, 1, 0, 1, 0, 0, 0],\n",
       "   [0, 0, 0, 1, 0, 1, 0, 0],\n",
       "   [0, 0, 0, 0, 0, 0, 1, 0],\n",
       "   [0, 0, 0, 0, 0, 0, 1, 0],\n",
       "   [0, 0, 0, 0, 0, 0, 0, 1],\n",
       "   [0, 0, 0, 0, 0, 0, 0, 1],\n",
       "   [0, 0, 0, 0, 0, 0, 0, 1],\n",
       "   [0, 0, 0, 0, 0, 0, 0, 0]],\n",
       "  'ops': [0, 3, 4, 2, 2, 4, 2, 6],\n",
       "  'training_time': 131.4312922358513,\n",
       "  'test_accuracy': 74.19,\n",
       "  'test_accuracy_avg': 74.19,\n",
       "  'valid_accuracy': 74.47600001220704,\n",
       "  'valid_accuracy_avg': 74.47600001220704,\n",
       "  'netcode': tensor([[ 0.0000e+00,  1.0000e+00,  0.0000e+00,  ...,  9.9989e-01,\n",
       "            6.8643e-01,  7.2720e-01],\n",
       "          [-2.3850e-08, -1.0000e+00,  5.2630e-01,  ...,  1.0000e+00,\n",
       "            0.0000e+00,  1.0000e+00],\n",
       "          [ 3.4969e-07,  1.0000e+00, -9.7689e-01,  ...,  1.0000e+00,\n",
       "            0.0000e+00,  1.0000e+00],\n",
       "          ...,\n",
       "          [ 1.7485e-07,  1.0000e+00,  6.2701e-01,  ...,  1.8229e-02,\n",
       "           -1.8406e-01,  6.3810e-01],\n",
       "          [ 4.7700e-08,  1.0000e+00,  8.9502e-01,  ...,  9.2416e-01,\n",
       "            1.7024e-01, -5.6822e-01],\n",
       "          [ 1.5890e-02,  9.9987e-01,  4.0127e-01,  ..., -8.1017e-01,\n",
       "           -2.2523e-01,  9.7431e-01]])},)"
      ]
     },
     "execution_count": 11,
     "metadata": {},
     "output_type": "execute_result"
    }
   ],
   "source": [
    "for i in range(len(data)):\n",
    "    if data[i]['ops'][1:-1] == [3, 4, 2, 2, 4, 2]:\n",
    "        print(i)\n",
    "        break\n",
    "data[i], "
   ]
  }
 ],
 "metadata": {
  "kernelspec": {
   "display_name": "base",
   "language": "python",
   "name": "python3"
  },
  "language_info": {
   "codemirror_mode": {
    "name": "ipython",
    "version": 3
   },
   "file_extension": ".py",
   "mimetype": "text/x-python",
   "name": "python",
   "nbconvert_exporter": "python",
   "pygments_lexer": "ipython3",
   "version": "3.12.4"
  }
 },
 "nbformat": 4,
 "nbformat_minor": 5
}
