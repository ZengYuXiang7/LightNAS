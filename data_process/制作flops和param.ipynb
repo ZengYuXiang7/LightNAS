{
 "cells": [
  {
   "cell_type": "code",
   "execution_count": 1,
   "id": "d15d8c3a",
   "metadata": {},
   "outputs": [],
   "source": [
    "def get_arch_str_from_arch_vector(arch_vector):\n",
    "    _opname_to_index = {\n",
    "        'none': 0,\n",
    "        'skip_connect': 1,\n",
    "        'nor_conv_1x1': 2,\n",
    "        'nor_conv_3x3': 3,\n",
    "        'avg_pool_3x3': 4,\n",
    "        'input': 5,\n",
    "        'output': 6,\n",
    "        'global': 7\n",
    "    }\n",
    "    _opindex_to_name = {value: key for key, value in _opname_to_index.items()}\n",
    "    ops = [_opindex_to_name[opindex] for opindex in arch_vector]\n",
    "    return '|{}~0|+|{}~0|{}~1|+|{}~0|{}~1|{}~2|'.format(*ops)\n",
    "\n",
    "# arch_str = get_arch_str_from_arch_vector([1, 2, 0, 2, 4, 1])             # 架构向量转字符串\n",
    "\n",
    "# index = api.query_index_by_arch(arch_str)\n",
    "# cost_info = api.get_cost_info(index, dataset='cifar10-valid')  # 或 'cifar10', 'cifar100'\n",
    "\n",
    "# flops = cost_info['flops']      # 单位: M\n",
    "# params = cost_info['params']    # 单位: MB\n",
    "# flops, params"
   ]
  },
  {
   "cell_type": "code",
   "execution_count": null,
   "id": "df6399ca",
   "metadata": {},
   "outputs": [
    {
     "name": "stderr",
     "output_type": "stream",
     "text": [
      "/home/rtx4090/code/python/current/LightNAS/data_process/nas_201_api/api_201.py:70: FutureWarning: You are using `torch.load` with `weights_only=False` (the current default value), which uses the default pickle module implicitly. It is possible to construct malicious pickle data which will execute arbitrary code during unpickling (See https://github.com/pytorch/pytorch/blob/main/SECURITY.md#untrusted-models for more details). In a future release, the default value for `weights_only` will be flipped to `True`. This limits the functions that could be executed during unpickling. Arbitrary objects will no longer be allowed to be loaded via this mode unless they are explicitly allowlisted by the user via `torch.serialization.add_safe_globals`. We recommend you start setting `weights_only=True` for any use case where you don't have full control of the loaded file. Please open an issue on GitHub for any issues related to this experimental feature.\n",
      "  file_path_or_dict = torch.load(file_path_or_dict, map_location='cpu')\n"
     ]
    },
    {
     "name": "stdout",
     "output_type": "stream",
     "text": [
      "标准化后样例：\n",
      "[((0, 0, 0, 2, 2, 4), [-1.1737815449198306, -1.1711545212919863]), ((1, 0, 0, 2, 2, 4), [-1.1737815449198306, -1.1711545212919863]), ((2, 0, 0, 2, 2, 4), [-1.0578910710722402, -1.0509160147744498])]\n"
     ]
    }
   ],
   "source": [
    "import pickle\n",
    "import numpy as np\n",
    "import os\n",
    "from collections import defaultdict\n",
    "\n",
    "# -------------------------------\n",
    "# 1. 读取 pkl 文件\n",
    "with open('/home/rtx4090/code/python/current/LightNAS/data/nasbench201/pkl/desktop-gpu-gtx-1080ti-large.pkl', 'rb') as f:\n",
    "    df = pickle.load(f)\n",
    "\n",
    "from nas_201_api import NASBench201API as API\n",
    "api = API('NAS-Bench-201-v1_0-e61699.pth', verbose=False)\n",
    "# -------------------------------\n",
    "# 2. 扫描所有架构，收集 flops 和 params\n",
    "raw_records = []     # [(key, flops, params)]\n",
    "\n",
    "for i in range(len(df)):\n",
    "    key = df[i, :-1].astype(np.int32)\n",
    "    try:\n",
    "        arch_str = get_arch_str_from_arch_vector(key)\n",
    "        index = api.query_index_by_arch(arch_str)\n",
    "        cost_info = api.get_cost_info(index, dataset='cifar10-valid')\n",
    "        flops = cost_info['flops']\n",
    "        params = cost_info['params']\n",
    "        acc_info = api.get_more_info(\n",
    "            index, \n",
    "            dataset='cifar10-valid', \n",
    "            iepoch=None, \n",
    "            hp='200', \n",
    "            is_random=False\n",
    "        )\n",
    "        # 提取验证集准确率（根据数据集不同，key 可能不同，需对应调整）\n",
    "        test_accuracy = acc_info['test-accuracy']\n",
    "        raw_records.append((tuple(key), flops, params))\n",
    "    except Exception as e:\n",
    "        print(f\"[Warning] Skipped index {i} due to: {e}\")\n",
    "\n",
    "# -------------------------------\n",
    "# 3. 标准化（z-score）\n",
    "all_flops = np.array([x[1] for x in raw_records])\n",
    "all_params = np.array([x[2] for x in raw_records])\n",
    "\n",
    "flops_mean, flops_std = all_flops.mean(), all_flops.std()\n",
    "params_mean, params_std = all_params.mean(), all_params.std()\n",
    "\n",
    "# -------------------------------\n",
    "# 4. 构建归一化字典\n",
    "norm_dict = {}\n",
    "\n",
    "for key, flops, params in raw_records:\n",
    "    flops_norm = (flops - flops_mean) / flops_std\n",
    "    params_norm = (params - params_mean) / params_std\n",
    "    norm_dict[key] = [flops_norm, params_norm]\n",
    "\n",
    "# -------------------------------\n",
    "# 5. 示例查看\n",
    "print(f\"标准化后样例：\\n{list(norm_dict.items())[:3]}\")"
   ]
  },
  {
   "cell_type": "code",
   "execution_count": null,
   "id": "073cf599",
   "metadata": {},
   "outputs": [
    {
     "name": "stdout",
     "output_type": "stream",
     "text": [
      "当前目录: /home/rtx4090/code/python/current/LightNAS/data/nasbench201/others\n",
      "父目录: /home/rtx4090/code/python/current/LightNAS/datasets\n"
     ]
    }
   ],
   "source": [
    "import os\n",
    "\n",
    "current_folder = os.getcwd()                      # 当前工作目录\n",
    "parent_folder = os.path.dirname(current_folder)   # 父目录\n",
    "parent_folder = os.path.dirname(parent_folder)   # 爷目录\n",
    "\n",
    "print(\"当前目录:\", current_folder)\n",
    "print(\"父目录:\", parent_folder)\n",
    "with open(f'{parent_folder}/nasbench201_all_flops_parameter.pkl', 'wb') as f:\n",
    "    pickle.dump(norm_dict, f)"
   ]
  },
  {
   "cell_type": "code",
   "execution_count": 7,
   "id": "8c027335",
   "metadata": {},
   "outputs": [
    {
     "data": {
      "text/plain": [
       "\"|avg_pool_3x3~0|+|avg_pool_3x3~0|avg_pool_3x3~1|+|none~0|nor_conv_3x3~1|none~2|\\ndatasets : ['cifar10-valid'], extra-info : arch-index=14445\\ncifar10-valid  FLOP= 43.17 M, Params=0.316 MB, latency=None ms.\\ncifar10-valid  train : [loss = 1.272, top1 = 53.60%], valid : [loss = 1.314, top1 = 52.27%]\""
      ]
     },
     "execution_count": 7,
     "metadata": {},
     "output_type": "execute_result"
    }
   ],
   "source": [
    "index = api.query_info_str_by_arch(arch_str)\n",
    "index"
   ]
  },
  {
   "cell_type": "code",
   "execution_count": null,
   "id": "12d43c80",
   "metadata": {},
   "outputs": [],
   "source": []
  }
 ],
 "metadata": {
  "kernelspec": {
   "display_name": "base",
   "language": "python",
   "name": "python3"
  },
  "language_info": {
   "codemirror_mode": {
    "name": "ipython",
    "version": 3
   },
   "file_extension": ".py",
   "mimetype": "text/x-python",
   "name": "python",
   "nbconvert_exporter": "python",
   "pygments_lexer": "ipython3",
   "version": "3.12.4"
  }
 },
 "nbformat": 4,
 "nbformat_minor": 5
}
