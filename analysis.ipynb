{
 "cells": [
  {
   "cell_type": "code",
   "execution_count": 1,
   "id": "c4048918",
   "metadata": {},
   "outputs": [],
   "source": [
    "import torch \n",
    "import os \n",
    "all_stat_data = [item for item in os.listdir('./unseen_structure/data') if 'sf' in item]\n",
    "all_token_data = [item for item in os.listdir('./unseen_structure/data') if 'sf' not in item]"
   ]
  },
  {
   "cell_type": "code",
   "execution_count": 2,
   "id": "c98d2b84",
   "metadata": {},
   "outputs": [
    {
     "name": "stderr",
     "output_type": "stream",
     "text": [
      "/tmp/ipykernel_1600349/4116501074.py:2: FutureWarning: You are using `torch.load` with `weights_only=False` (the current default value), which uses the default pickle module implicitly. It is possible to construct malicious pickle data which will execute arbitrary code during unpickling (See https://github.com/pytorch/pytorch/blob/main/SECURITY.md#untrusted-models for more details). In a future release, the default value for `weights_only` will be flipped to `True`. This limits the functions that could be executed during unpickling. Arbitrary objects will no longer be allowed to be loaded via this mode unless they are explicitly allowlisted by the user via `torch.serialization.add_safe_globals`. We recommend you start setting `weights_only=True` for any use case where you don't have full control of the loaded file. Please open an issue on GitHub for any issues related to this experimental feature.\n",
      "  tokens = torch.load(root_dir + all_token_data[0])\n"
     ]
    }
   ],
   "source": [
    "root_dir = 'unseen_structure/data/'\n",
    "tokens = torch.load(root_dir + all_token_data[0])"
   ]
  },
  {
   "cell_type": "code",
   "execution_count": 3,
   "id": "2a16f68e",
   "metadata": {},
   "outputs": [
    {
     "data": {
      "text/plain": [
       "'18639_1_data.pt'"
      ]
     },
     "execution_count": 3,
     "metadata": {},
     "output_type": "execute_result"
    }
   ],
   "source": [
    "all_token_data[0]"
   ]
  },
  {
   "cell_type": "code",
   "execution_count": 4,
   "id": "da492c5c",
   "metadata": {},
   "outputs": [
    {
     "name": "stdout",
     "output_type": "stream",
     "text": [
      "2000\n",
      "2000\n",
      "2000\n",
      "2000\n",
      "2000\n",
      "2000\n",
      "2000\n",
      "2000\n",
      "2000\n",
      "2000\n"
     ]
    }
   ],
   "source": [
    "# def get_nnlqp():\n",
    "root_dir = './unseen_structure/onnx'\n",
    "all_structure = os.listdir(root_dir)\n",
    "for structure_dir in all_structure:\n",
    "    now_df = os.listdir(os.path.join(root_dir, structure_dir))\n",
    "    print(len(now_df))"
   ]
  },
  {
   "cell_type": "code",
   "execution_count": null,
   "id": "598a903c",
   "metadata": {},
   "outputs": [],
   "source": []
  },
  {
   "cell_type": "code",
   "execution_count": 3,
   "id": "3fedbfc0",
   "metadata": {},
   "outputs": [
    {
     "name": "stdout",
     "output_type": "stream",
     "text": [
      "./datasets/nnlqp/unseen_structure/onnx/nnmeter_alexnet/nnmeter_alexnet_transform_0000.onnx\n",
      "Read Onnx: ./datasets/nnlqp/unseen_structure/onnx/nnmeter_alexnet/nnmeter_alexnet_transform_0000.onnx\n",
      " - Warning: onnx version should in ['1.7.0', '1.8.1'], but with 1.18.0, infer shape may cause error\n",
      " - Warning: onnx version should in ['1.7.0', '1.8.1'], but with 1.18.0, infer shape may cause error\n",
      "00001 onnx/nnmeter_alexnet/nnmeter_alexnet_transform_0000.onnx 1 2.06137 1\n",
      "1433543680.0 61100840.0 62209168.0 {'17': (145711104, 23296, 224000), '18': (0, 0, 200704), '19': (0, 0, 46656), '20': (447897600, 307392, 447360), '21': (0, 0, 139968), '22': (0, 0, 32448), '23': (224280576, 663936, 728832), '24': (0, 0, 64896), '25': (299040768, 884992, 928256), '26': (0, 0, 43264), '27': (199360512, 590080, 633344), '28': (0, 0, 43264), '29': (0, 0, 9216), '30': (9216, 0, 9216), '31': (0, 0, 9216), '32': (75497472, 37752832, 37756928), '33': (0, 0, 4096), '34': (33554432, 16781312, 16785408), '35': (0, 0, 4096), 'output1': (8192000, 4097000, 4098000)}\n"
     ]
    }
   ],
   "source": [
    "from data_process.nnlqp.feature.graph_feature import parse_from_onnx\n",
    "import os \n",
    "\n",
    "root_dir = './datasets/nnlqp/unseen_structure'\n",
    "with open('./datasets/nnlqp/unseen_structure/gt.txt', 'r') as f:\n",
    "    dataset = f.readlines()\n",
    "model_types = set()\n",
    "\n",
    "for line in dataset: #gt.txt\n",
    "    # model_types.add(line.split()[4])\n",
    "    line = line.rstrip()\n",
    "    items = line.split(\" \")\n",
    "    speed_id = str(items[0])\n",
    "    graph_id = str(items[1])\n",
    "    batch_size = int(items[2])\n",
    "    cost_time = float(items[3])\n",
    "    plt_id = int(items[5])\n",
    "    \n",
    "    now_onnx_path = os.path.join(root_dir, graph_id)\n",
    "    print(now_onnx_path)\n",
    "    nx_G, output_shapes, flops, params, macs, node_flops, onnx_G = parse_from_onnx(now_onnx_path, batch_size)\n",
    "    print(speed_id, graph_id, batch_size, cost_time, plt_id)\n",
    "    print(flops, params, macs, node_flops)\n",
    "    break"
   ]
  },
  {
   "cell_type": "code",
   "execution_count": null,
   "id": "8489848b",
   "metadata": {},
   "outputs": [],
   "source": [
    "root_dir = './datasets/nnlqp/unseen_structure'\n",
    "with open('./datasets/nnlqp/unseen_structure/gt.txt', 'r') as f:\n",
    "    dataset = f.readlines()\n",
    "x, y = [], []\n",
    "for line in dataset: #gt.txt\n",
    "    # model_types.add(line.split()[4])\n",
    "    line = line.rstrip()\n",
    "    items = line.split(\" \")\n",
    "    speed_id = str(items[0])\n",
    "    graph_id = str(items[1])\n",
    "    batch_size = int(items[2])\n",
    "    cost_time = float(items[3])\n",
    "    plt_id = int(items[5])\n",
    "    x.append(speed_id)\n",
    "    y.append(cost_time)\n",
    "x, y = np.array(x), np.array(y)\n",
    "    "
   ]
  },
  {
   "cell_type": "code",
   "execution_count": null,
   "id": "4f42c5ac",
   "metadata": {},
   "outputs": [],
   "source": []
  }
 ],
 "metadata": {
  "kernelspec": {
   "display_name": "base",
   "language": "python",
   "name": "python3"
  },
  "language_info": {
   "codemirror_mode": {
    "name": "ipython",
    "version": 3
   },
   "file_extension": ".py",
   "mimetype": "text/x-python",
   "name": "python",
   "nbconvert_exporter": "python",
   "pygments_lexer": "ipython3",
   "version": "3.12.4"
  }
 },
 "nbformat": 4,
 "nbformat_minor": 5
}
