{
 "cells": [
  {
   "cell_type": "code",
   "execution_count": 70,
   "id": "36e56e85",
   "metadata": {},
   "outputs": [],
   "source": [
    "import numpy as np\n",
    "import networkx as nx\n",
    "# from karateclub import FeatherGraph"
   ]
  },
  {
   "cell_type": "code",
   "execution_count": 71,
   "id": "f5cdb34b",
   "metadata": {},
   "outputs": [],
   "source": [
    "import os\n",
    "import random\n",
    "import torch\n",
    "import numpy as np\n",
    "# 时间种子\n",
    "def set_seed(seed):\n",
    "    random.seed(seed)\n",
    "    np.random.seed(seed)\n",
    "    torch.manual_seed(seed)\n",
    "    torch.cuda.manual_seed(seed)\n",
    "    torch.cuda.manual_seed_all(seed)\n",
    "    os.environ['PYTHONHASHSEED'] = str(seed)\n",
    "    torch.backends.cudnn.deterministic = True\n",
    "    torch.backends.cudnn.benchmark = False\n",
    "set_seed(0)"
   ]
  },
  {
   "cell_type": "code",
   "execution_count": 72,
   "id": "31e55d6d",
   "metadata": {},
   "outputs": [
    {
     "name": "stderr",
     "output_type": "stream",
     "text": [
      "100%|██████████| 15284/15284 [00:00<00:00, 27004.47it/s]\n"
     ]
    }
   ],
   "source": [
    "from data_process.create_latency import *\n",
    "from tqdm import *\n",
    "import torch \n",
    "import networkx as nx\n",
    "import pickle \n",
    "\n",
    "\n",
    "def get_dataset_graph(dataset='201_acc'):\n",
    "    raw_data = pickle.load(open('data/201_acc_data.pkl', 'rb'))\n",
    "    all_keys = raw_data['key']\n",
    "    \n",
    "    all_graphs = []\n",
    "    if dataset == '201_acc':\n",
    "        for key in tqdm(all_keys):\n",
    "            arch_str = get_arch_str_from_arch_vector(key)             # 架构向量转字符串\n",
    "            adj_matrix, features = info2mat(arch_str) \n",
    "            graph = nx.from_numpy_array(adj_matrix)   # 邻接矩阵 -> 图\n",
    "            # 添加节点特征\n",
    "            for j in range(graph.number_of_nodes()):\n",
    "                graph.nodes[j]['feature'] = np.eye(7, dtype=int)[features[j]]\n",
    "                # graph.nodes[j]['feature'] = features[j]\n",
    "            all_graphs.append(graph)\n",
    "    elif dataset == 'nasbench101':\n",
    "        pass \n",
    "    \n",
    "    elif dataset == 'nnlqp':\n",
    "        pass\n",
    "    \n",
    "    \n",
    "    return all_graphs\n",
    "\n",
    "all_graphs = get_dataset_graph()"
   ]
  },
  {
   "cell_type": "code",
   "execution_count": 73,
   "id": "95b29214",
   "metadata": {},
   "outputs": [],
   "source": [
    "from karateclub.graph_embedding.graph2vec import Graph2Vec\n",
    "from sklearn.cluster import KMeans\n",
    "\n",
    "def get_graph2vec_clusters(graphs, dimensions=64, epochs=10, n_clusters=5, random_state=42):\n",
    "    \"\"\"\n",
    "    使用 Graph2Vec 生成图嵌入，并进行 KMeans 聚类。\n",
    "\n",
    "    Parameters\n",
    "    ----------\n",
    "    graphs : list of networkx.Graph\n",
    "        输入的一组图\n",
    "    dimensions : int\n",
    "        嵌入维度\n",
    "    workers : int\n",
    "        并行 worker 数\n",
    "    epochs : int\n",
    "        训练轮数\n",
    "    n_clusters : int\n",
    "        聚类簇数\n",
    "    random_state : int\n",
    "        随机种子\n",
    "\n",
    "    Returns\n",
    "    -------\n",
    "    embeddings : np.ndarray\n",
    "        图的嵌入表示\n",
    "    labels : np.ndarray\n",
    "        每个图的聚类标签\n",
    "    \"\"\"\n",
    "    # Graph2Vec 表征\n",
    "    model = Graph2Vec(dimensions=dimensions, workers=4, epochs=epochs)\n",
    "    model.fit(graphs)\n",
    "    embeddings = model.get_embedding()\n",
    "\n",
    "    return embeddings\n",
    "embeddings = get_graph2vec_clusters(all_graphs, dimensions=32, epochs=10)"
   ]
  },
  {
   "cell_type": "code",
   "execution_count": 74,
   "id": "fb01ce9f",
   "metadata": {},
   "outputs": [],
   "source": [
    "import numpy as np\n",
    "from sklearn.cluster import KMeans\n",
    "from sklearn.preprocessing import normalize\n",
    "\n",
    "def select_diverse_by_kmeans(embeddings: np.ndarray, n_clusters: int = 100):\n",
    "    # 归一化能让距离更稳定（特别是用余弦度量时）\n",
    "    X = normalize(embeddings)  # L2-normalize\n",
    "    km = KMeans(n_clusters=n_clusters, n_init=\"auto\")\n",
    "    labels = km.fit_predict(X)\n",
    "    centers = km.cluster_centers_\n",
    "\n",
    "    # 每簇挑“离簇中心最近”的索引\n",
    "    selected_idx = []\n",
    "    for c in range(n_clusters):\n",
    "        idx = np.where(labels == c)[0]\n",
    "        if idx.size == 0:\n",
    "            continue\n",
    "        # 计算该簇内到中心的距离\n",
    "        dist = np.linalg.norm(X[idx] - centers[c], axis=1)\n",
    "        rep = idx[np.argmin(dist)]\n",
    "        selected_idx.append(rep)\n",
    "\n",
    "    return np.array(selected_idx, dtype=int)\n",
    "\n",
    "cluster_idx = select_diverse_by_kmeans(embeddings, 100)"
   ]
  },
  {
   "cell_type": "code",
   "execution_count": 75,
   "id": "9704ef9f",
   "metadata": {},
   "outputs": [
    {
     "data": {
      "text/plain": [
       "(array([ 4244, 14530, 12736,  4703,  4510,  9333, 12370,  1880,  8418,\n",
       "         9178,  6270,  4332,    80,  2295,  4788,  9066,  8048,  9771,\n",
       "        13886,  6377,  8304,  4275,  7887,  8001, 14528,  9364,  2231,\n",
       "         9717,  1384,  3471, 14314,  3921, 13735,  4881,   368,  2468,\n",
       "         3641,  1430,  4087,  7770,  4338,  6622,  5943,  8776,  9460,\n",
       "         4532, 13973, 13624, 13386,   461, 11621,  9796,   387,  8265,\n",
       "        14597,  8530, 11594,  2649,  5782,  8501,   402,  5958,  2989,\n",
       "        10472,  9669,  4358, 11892,  2290, 12660,  1492,  6931,  6816,\n",
       "         2197,  1103, 15087,  1271,  1699,  1827, 14709, 13643, 14823,\n",
       "         9647,  4347,  8973, 15082,  2495, 13249,  7719, 12829, 15278,\n",
       "        14581,  9313, 11169,  8632,  3258,  5361,  1810,  3976, 11153,\n",
       "         9851]),\n",
       " (100,))"
      ]
     },
     "execution_count": 75,
     "metadata": {},
     "output_type": "execute_result"
    }
   ],
   "source": [
    "cluster_idx, cluster_idx.shape"
   ]
  },
  {
   "cell_type": "code",
   "execution_count": 76,
   "id": "0faf08c1",
   "metadata": {},
   "outputs": [
    {
     "name": "stderr",
     "output_type": "stream",
     "text": [
      "100%|██████████| 15284/15284 [00:00<00:00, 19591.48it/s]\n"
     ]
    },
    {
     "name": "stdout",
     "output_type": "stream",
     "text": [
      "Done!\n"
     ]
    }
   ],
   "source": [
    "set_seed(0)\n",
    "def sample_method(method='ours', sample_num=100):\n",
    "    if method == 'random':\n",
    "        cluster_idx = np.random.choice(len(all_graphs), sample_num, replace=False)\n",
    "    elif method == 'ours':\n",
    "        all_graphs = get_dataset_graph(dataset='201_acc')\n",
    "        embeddings = get_graph2vec_clusters(all_graphs, dimensions=32, epochs=10)\n",
    "        cluster_idx = select_diverse_by_kmeans(embeddings, n_clusters=sample_num)\n",
    "    return cluster_idx\n",
    "\n",
    "sample_idx = sample_method('ours', sample_num=100)\n",
    "print('Done!')"
   ]
  },
  {
   "cell_type": "code",
   "execution_count": 1,
   "id": "772424ee",
   "metadata": {},
   "outputs": [
    {
     "name": "stderr",
     "output_type": "stream",
     "text": [
      "/home/rtx4090/anaconda3/envs/py30/lib/python3.10/site-packages/requests/__init__.py:86: RequestsDependencyWarning: Unable to find acceptable character detection dependency (chardet or charset_normalizer).\n",
      "  warnings.warn(\n",
      "/home/rtx4090/anaconda3/envs/py30/lib/python3.10/site-packages/tqdm/auto.py:21: TqdmWarning: IProgress not found. Please update jupyter and ipywidgets. See https://ipywidgets.readthedocs.io/en/stable/user_install.html\n",
      "  from .autonotebook import tqdm as notebook_tqdm\n",
      "100%|██████████| 15284/15284 [00:00<00:00, 21940.98it/s]\n"
     ]
    }
   ],
   "source": [
    "from models.sampler import sample_method\n",
    "sample_idx = sample_method('ours', sample_num=100)"
   ]
  },
  {
   "cell_type": "code",
   "execution_count": null,
   "id": "b8dbf690",
   "metadata": {},
   "outputs": [],
   "source": []
  }
 ],
 "metadata": {
  "kernelspec": {
   "display_name": "py30",
   "language": "python",
   "name": "python3"
  },
  "language_info": {
   "codemirror_mode": {
    "name": "ipython",
    "version": 3
   },
   "file_extension": ".py",
   "mimetype": "text/x-python",
   "name": "python",
   "nbconvert_exporter": "python",
   "pygments_lexer": "ipython3",
   "version": "3.10.0"
  }
 },
 "nbformat": 4,
 "nbformat_minor": 5
}
