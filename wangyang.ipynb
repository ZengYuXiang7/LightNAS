{
 "cells": [
  {
   "cell_type": "code",
   "execution_count": 3,
   "metadata": {},
   "outputs": [],
   "source": [
    "import numpy as np\n",
    "import pickle\n",
    "import json\n",
    "import ast\n",
    "\n",
    "file_paths = [\n",
    "    './datasets/nasbench201/pickle/desktop-cpu-core-i7-7820x-fp32.pickle',\n",
    "    './datasets/nasbench201/pickle/desktop-gpu-gtx-1080ti-fp32.pickle',\n",
    "    './datasets/nasbench201/pickle/desktop-gpu-gtx-1080ti-large.pickle',\n",
    "    './datasets/nasbench201/pickle/embedded-gpu-jetson-nono-fp16.pickle',\n",
    "    './datasets/nasbench201/pickle/embedded-tpu-edgetpu-large.pickle',\n",
    "    './datasets/nasbench201/pickle/embeeded-tpu-edgetpu-int8.pickle',\n",
    "    './datasets/nasbench201/pickle/mobile-cpu-snapdragon-450-contex-a53-int8.pickle',\n",
    "    './datasets/nasbench201/pickle/mobile-cpu-snapdragon-675-kryo-460-int8.pickle',\n",
    "    './datasets/nasbench201/pickle/mobile-cpu-snapdragon-855-kryo-485-int8.pickle',\n",
    "    './datasets/nasbench201/pickle/mobile-dsp-snapdragon-675-hexagon-685-int8.pickle',\n",
    "    './datasets/nasbench201/pickle/mobile-dsp-snapdragon-855-hexagon-690-int8.pickle',\n",
    "    './datasets/nasbench201/pickle/mobile-gpu-snapdragon-450-adreno-506-int8.pickle',\n",
    "    './datasets/nasbench201/pickle/mobile-gpu-snapdragon-675-adren0-612-int8.pickle',\n",
    "    './datasets/nasbench201/pickle/mobile-gpu-snapdragon-855-adren0-640-int8.pickle'\n",
    "]\n",
    "\n",
    "\n",
    "key_map = {}\n",
    "idx = 0\n",
    "first = True\n",
    "all_df = np.zeros((len(file_paths), 15284, 6))\n",
    "all_y = np.zeros((len(file_paths), 15284, 1))\n",
    "for i, file_path in enumerate(file_paths):\n",
    "    if first:\n",
    "        idx = 0\n",
    "        try:\n",
    "            with open(file_path,'rb') as file:\n",
    "                loaded_data = pickle.load(file)\n",
    "                for key, value in loaded_data.items():\n",
    "                    if key not in key_map:\n",
    "                        all_df[i, idx] = key\n",
    "                        key_map[key] = idx\n",
    "                        all_y[i, idx] = value\n",
    "                        idx += 1\n",
    "        except Exception as e:\n",
    "                print(f\"Error loading {file_path}: {e}\")\n",
    "        first = False\n",
    "    else:\n",
    "        try:\n",
    "            with open(file_path,'rb') as file:\n",
    "                loaded_data = pickle.load(file)\n",
    "                for key, value in loaded_data.items():\n",
    "                    all_df[i, key_map[key]] = key \n",
    "                    all_y[i, key_map[key]] = value\n",
    "        except Exception as e:\n",
    "            print(f\"Error loading {file_path}: {e}\")\n",
    "\n",
    "import os\n",
    "for i, file_path in enumerate(file_paths):\n",
    "    x = all_df[i]\n",
    "    y = all_y[i]\n",
    "    data = np.concatenate((x, y), axis=1)\n",
    "    os.makedirs('./datasets/nasbench201/pkl', exist_ok=True)\n",
    "    output_file_path = f'./datasets/nasbench201/pkl/{file_path.split(\"/\")[-1].replace(\".pickle\", \"_data.pkl\")}'\n",
    "\n",
    "    with open(output_file_path,'wb') as output_file:\n",
    "        pickle.dump(data,output_file)"
   ]
  },
  {
   "cell_type": "code",
   "execution_count": 3,
   "metadata": {},
   "outputs": [
    {
     "data": {
      "text/plain": [
       "array([0.00686694, 0.00686694, 0.00686694, ..., 0.00686694, 0.00686694,\n",
       "       0.00686694])"
      ]
     },
     "execution_count": 3,
     "metadata": {},
     "output_type": "execute_result"
    }
   ],
   "source": [
    "import os\n",
    "import pickle \n",
    "os.listdir('datasets/pickle')\n",
    "with open('./datasets/pickle/desktop-gpu-gtx-1080ti-fp32_data.pkl', 'rb') as f:\n",
    "    df = pickle.load(f)\n",
    "df[:, -1]"
   ]
  },
  {
   "cell_type": "code",
   "execution_count": null,
   "metadata": {},
   "outputs": [],
   "source": [
    "\n"
   ]
  },
  {
   "cell_type": "code",
   "execution_count": null,
   "metadata": {},
   "outputs": [],
   "source": []
  }
 ],
 "metadata": {
  "kernelspec": {
   "display_name": "base",
   "language": "python",
   "name": "python3"
  },
  "language_info": {
   "codemirror_mode": {
    "name": "ipython",
    "version": 3
   },
   "file_extension": ".py",
   "mimetype": "text/x-python",
   "name": "python",
   "nbconvert_exporter": "python",
   "pygments_lexer": "ipython3",
   "version": "3.12.4"
  }
 },
 "nbformat": 4,
 "nbformat_minor": 2
}
