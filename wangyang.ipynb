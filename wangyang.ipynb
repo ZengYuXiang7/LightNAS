{
 "cells": [
  {
   "cell_type": "code",
   "execution_count": 97,
   "metadata": {},
   "outputs": [],
   "source": [
    "import numpy as np\n",
    "import pickle\n",
    "import json\n",
    "import ast\n",
    "\n",
    "file_paths = [\n",
    "    '/root/LightNAS/datasets/desktop-cpu-core-i7-7820x-fp32.pickle',\n",
    "    '/root/LightNAS/datasets/desktop-gpu-gtx-1080ti-fp32.pickle',\n",
    "    '/root/LightNAS/datasets/desktop-gpu-gtx-1080ti-large.pickle',\n",
    "    '/root/LightNAS/datasets/embedded-gpu-jetson-nono-fp16.pickle',\n",
    "    '/root/LightNAS/datasets/embedded-tpu-edgetpu-large.pickle',\n",
    "    '/root/LightNAS/datasets/embeeded-tpu-edgetpu-int8.pickle',\n",
    "    '/root/LightNAS/datasets/mobile-cpu-snapdragon-450-contex-a53-int8.pickle',\n",
    "    '/root/LightNAS/datasets/mobile-cpu-snapdragon-675-kryo-460-int8.pickle',\n",
    "    '/root/LightNAS/datasets/mobile-cpu-snapdragon-855-kryo-485-int8.pickle',\n",
    "    '/root/LightNAS/datasets/mobile-dsp-snapdragon-675-hexagon-685-int8.pickle',\n",
    "    '/root/LightNAS/datasets/mobile-dsp-snapdragon-855-hexagon-690-int8.pickle',\n",
    "    '/root/LightNAS/datasets/mobile-gpu-snapdragon-450-adreno-506-int8.pickle',\n",
    "    '/root/LightNAS/datasets/mobile-gpu-snapdragon-675-adren0-612-int8.pickle',\n",
    "    '/root/LightNAS/datasets/mobile-gpu-snapdragon-855-adren0-640-int8.pickle'\n",
    "]\n",
    "\n",
    "\n",
    "\n",
    "key_map = {}\n",
    "idx = 0\n",
    "first = True\n",
    "all_df = np.zeros((len(file_paths), 15284, 6))\n",
    "all_y = np.zeros((len(file_paths), 15284, 1))\n",
    "for i, file_path in enumerate(file_paths):\n",
    "    if first:\n",
    "        idx = 0\n",
    "        try:\n",
    "            with open(file_path,'rb') as file:\n",
    "                loaded_data = pickle.load(file)\n",
    "                for key, value in loaded_data.items():\n",
    "                    if key not in key_map:\n",
    "                        all_df[i, idx] = key\n",
    "                        key_map[key] = idx\n",
    "                        all_y[i] = value\n",
    "                        idx += 1\n",
    "        except Exception as e:\n",
    "                print(f\"Error loading {file_path}: {e}\")\n",
    "        first = False\n",
    "    else:\n",
    "        try:\n",
    "            with open(file_path,'rb') as file:\n",
    "                loaded_data = pickle.load(file)\n",
    "                for key, value in loaded_data.items():\n",
    "                    all_df[i, key_map[key]] = key \n",
    "                    all_y[i] = value\n",
    "        except Exception as e:\n",
    "            print(f\"Error loading {file_path}: {e}\")\n",
    "\n",
    "for i, file_path in enumerate(file_paths):\n",
    "    x = all_df[i]\n",
    "    y = all_y[i]\n",
    "    data = np.concatenate((x, y), axis=1)\n",
    "\n",
    "    output_file_path = f'/root/LightNAS/datasets/pickle/{file_path.split(\"/\")[-1].replace(\".pickle\", \"_data.pkl\")}'\n",
    "\n",
    "\n",
    "    with open(output_file_path,'wb') as output_file:\n",
    "        pickle.dump(data,output_file)"
   ]
  },
  {
   "cell_type": "code",
   "execution_count": null,
   "metadata": {},
   "outputs": [],
   "source": []
  },
  {
   "cell_type": "code",
   "execution_count": null,
   "metadata": {},
   "outputs": [],
   "source": [
    "\n"
   ]
  },
  {
   "cell_type": "code",
   "execution_count": null,
   "metadata": {},
   "outputs": [],
   "source": []
  }
 ],
 "metadata": {
  "language_info": {
   "name": "python"
  }
 },
 "nbformat": 4,
 "nbformat_minor": 2
}
