{
 "cells": [
  {
   "cell_type": "code",
   "execution_count": 1,
   "id": "75640a4b",
   "metadata": {},
   "outputs": [
    {
     "name": "stdout",
     "output_type": "stream",
     "text": [
      "Sample 1:\n",
      "{'id': 'alexnet_1356', 'cortexA76cpu_tflite21': 148.164, 'adreno640gpu_tflite21': 24.4851, 'adreno630gpu_tflite21': 31.932404999999996, 'myriadvpu_openvino2019r2': 15.486, 'graph': {'input_im_0': {'inbounds': [], 'attr': {'name': 'input_im_0', 'type': 'Placeholder', 'output_shape': [[1, 224, 224, 3]], 'attr': {'shape': [1, 224, 224, 3]}, 'input_shape': []}, 'outbounds': ['conv1.conv/Conv2D']}, 'conv1.conv/Conv2D': {'inbounds': ['input_im_0'], 'attr': {'name': 'conv1.conv/Conv2D', 'type': 'Conv2D', 'output_shape': [[1, 56, 56, 63]], 'attr': {'dilations': [1, 1], 'strides': [4, 4], 'data_format': 'NHWC', 'padding': 'VALID', 'kernel_shape': [7, 7], 'weight_shape': [7, 7, 3, 63], 'pads': [0, 0, 0, 0]}, 'input_shape': [[1, 224, 224, 3]]}, 'outbounds': ['conv1.relu.relu/Relu']}, 'conv1.relu.relu/Relu': {'inbounds': ['conv1.conv/Conv2D'], 'attr': {'name': 'conv1.relu.relu/Relu', 'type': 'Relu', 'output_shape': [[1, 56, 56, 63]], 'attr': {}, 'input_shape': [[1, 56, 56, 63]]}, 'outbounds': ['conv1.maxpool/maxpool']}, 'conv1.maxpool/maxpool': {'inbounds': ['conv1.relu.relu/Relu'], 'attr': {'name': 'conv1.maxpool/maxpool', 'type': 'MaxPool', 'output_shape': [[1, 28, 28, 63]], 'attr': {'strides': [2, 2], 'data_format': 'NHWC', 'ksize': [3, 3], 'padding': 'SAME', 'pads': [0, 1, 0, 1]}, 'input_shape': [[1, 56, 56, 63]]}, 'outbounds': ['conv2.conv/Conv2D']}, 'conv2.conv/Conv2D': {'inbounds': ['conv1.maxpool/maxpool'], 'attr': {'name': 'conv2.conv/Conv2D', 'type': 'Conv2D', 'output_shape': [[1, 28, 28, 38]], 'attr': {'padding': 'SAME', 'dilations': [1, 1], 'strides': [1, 1], 'data_format': 'NHWC', 'kernel_shape': [1, 1], 'weight_shape': [1, 1, 63, 38], 'pads': [0, 0, 0, 0]}, 'input_shape': [[1, 28, 28, 63]]}, 'outbounds': ['conv2.relu.relu/Relu']}, 'conv2.relu.relu/Relu': {'inbounds': ['conv2.conv/Conv2D'], 'attr': {'name': 'conv2.relu.relu/Relu', 'type': 'Relu', 'output_shape': [[1, 28, 28, 38]], 'attr': {}, 'input_shape': [[1, 28, 28, 38]]}, 'outbounds': ['conv2.maxpool/maxpool']}, 'conv2.maxpool/maxpool': {'inbounds': ['conv2.relu.relu/Relu'], 'attr': {'name': 'conv2.maxpool/maxpool', 'type': 'MaxPool', 'output_shape': [[1, 13, 13, 38]], 'attr': {'ksize': [3, 3], 'padding': 'VALID', 'strides': [2, 2], 'data_format': 'NHWC', 'pads': [0, 0, 0, 0]}, 'input_shape': [[1, 28, 28, 38]]}, 'outbounds': ['conv3.conv/Conv2D']}, 'conv3.conv/Conv2D': {'inbounds': ['conv2.maxpool/maxpool'], 'attr': {'name': 'conv3.conv/Conv2D', 'type': 'Conv2D', 'output_shape': [[1, 13, 13, 652]], 'attr': {'dilations': [1, 1], 'strides': [1, 1], 'data_format': 'NHWC', 'padding': 'SAME', 'kernel_shape': [3, 3], 'weight_shape': [3, 3, 38, 652], 'pads': [0, 0, 0, 0]}, 'input_shape': [[1, 13, 13, 38]]}, 'outbounds': ['conv3.relu.relu/Relu']}, 'conv3.relu.relu/Relu': {'inbounds': ['conv3.conv/Conv2D'], 'attr': {'name': 'conv3.relu.relu/Relu', 'type': 'Relu', 'output_shape': [[1, 13, 13, 652]], 'attr': {}, 'input_shape': [[1, 13, 13, 652]]}, 'outbounds': ['conv4.conv/Conv2D']}, 'conv4.conv/Conv2D': {'inbounds': ['conv3.relu.relu/Relu'], 'attr': {'name': 'conv4.conv/Conv2D', 'type': 'Conv2D', 'output_shape': [[1, 13, 13, 204]], 'attr': {'dilations': [1, 1], 'strides': [1, 1], 'data_format': 'NHWC', 'padding': 'SAME', 'kernel_shape': [7, 7], 'weight_shape': [7, 7, 652, 204], 'pads': [0, 0, 0, 0]}, 'input_shape': [[1, 13, 13, 652]]}, 'outbounds': ['conv4.relu.relu/Relu']}, 'conv4.relu.relu/Relu': {'inbounds': ['conv4.conv/Conv2D'], 'attr': {'name': 'conv4.relu.relu/Relu', 'type': 'Relu', 'output_shape': [[1, 13, 13, 204]], 'attr': {}, 'input_shape': [[1, 13, 13, 204]]}, 'outbounds': ['conv5.conv/Conv2D']}, 'conv5.conv/Conv2D': {'inbounds': ['conv4.relu.relu/Relu'], 'attr': {'name': 'conv5.conv/Conv2D', 'type': 'Conv2D', 'output_shape': [[1, 13, 13, 179]], 'attr': {'padding': 'SAME', 'dilations': [1, 1], 'strides': [1, 1], 'data_format': 'NHWC', 'kernel_shape': [3, 3], 'weight_shape': [3, 3, 204, 179], 'pads': [0, 0, 0, 0]}, 'input_shape': [[1, 13, 13, 204]]}, 'outbounds': ['conv5.relu.relu/Relu']}, 'conv5.relu.relu/Relu': {'inbounds': ['conv5.conv/Conv2D'], 'attr': {'name': 'conv5.relu.relu/Relu', 'type': 'Relu', 'output_shape': [[1, 13, 13, 179]], 'attr': {}, 'input_shape': [[1, 13, 13, 179]]}, 'outbounds': ['conv5.maxpool/maxpool']}, 'conv5.maxpool/maxpool': {'inbounds': ['conv5.relu.relu/Relu'], 'attr': {'name': 'conv5.maxpool/maxpool', 'type': 'MaxPool', 'output_shape': [[1, 179]], 'attr': {'padding': 'VALID', 'strides': [2, 2], 'data_format': 'NHWC', 'ksize': [3, 3], 'pads': [0, 0, 0, 0]}, 'input_shape': [[1, 13, 13, 179]]}, 'outbounds': ['Mean']}, 'Mean': {'inbounds': ['conv5.maxpool/maxpool'], 'attr': {'name': 'Mean', 'type': 'Mean', 'output_shape': [[1, 179]], 'attr': {'reduction_indices': [1, 2]}, 'input_shape': [[1, 179]]}, 'outbounds': ['Reshape']}, 'Reshape': {'inbounds': ['Mean'], 'attr': {'name': 'Reshape', 'type': 'Reshape', 'output_shape': [[-1, 179]], 'attr': {'shape': [-1, 179]}, 'input_shape': [[1, 179]]}, 'outbounds': ['fc1.fc/MatMul']}, 'fc1.fc/MatMul': {'inbounds': ['Reshape'], 'attr': {'name': 'fc1.fc/MatMul', 'type': 'MatMul', 'output_shape': [[-1, 2867]], 'attr': {}, 'input_shape': [[-1, 179]]}, 'outbounds': ['fc1.relu.relu/Relu']}, 'fc1.relu.relu/Relu': {'inbounds': ['fc1.fc/MatMul'], 'attr': {'name': 'fc1.relu.relu/Relu', 'type': 'Relu', 'output_shape': [[-1, 2867]], 'attr': {}, 'input_shape': [[-1, 2867]]}, 'outbounds': ['fc2.fc/MatMul']}, 'fc2.fc/MatMul': {'inbounds': ['fc1.relu.relu/Relu'], 'attr': {'name': 'fc2.fc/MatMul', 'type': 'MatMul', 'output_shape': [[-1, 4505]], 'attr': {}, 'input_shape': [[-1, 2867]]}, 'outbounds': ['fc2.relu.relu/Relu']}, 'fc2.relu.relu/Relu': {'inbounds': ['fc2.fc/MatMul'], 'attr': {'name': 'fc2.relu.relu/Relu', 'type': 'Relu', 'output_shape': [[-1, 4505]], 'attr': {}, 'input_shape': [[-1, 4505]]}, 'outbounds': ['fc3.fc/MatMul']}, 'fc3.fc/MatMul': {'inbounds': ['fc2.relu.relu/Relu'], 'attr': {'name': 'fc3.fc/MatMul', 'type': 'MatMul', 'output_shape': [[-1, 1000]], 'attr': {}, 'input_shape': [[-1, 4505]]}, 'outbounds': []}}}\n",
      "Sample 2:\n",
      "{'id': 'alexnet_119', 'cortexA76cpu_tflite21': 140.691, 'adreno640gpu_tflite21': 23.9185, 'adreno630gpu_tflite21': 31.8771405, 'myriadvpu_openvino2019r2': 17.138, 'graph': {'input_im_0': {'inbounds': [], 'attr': {'name': 'input_im_0', 'type': 'Placeholder', 'output_shape': [[1, 224, 224, 3]], 'attr': {'shape': [1, 224, 224, 3]}, 'input_shape': []}, 'outbounds': ['conv1.conv/Conv2D']}, 'conv1.conv/Conv2D': {'inbounds': ['input_im_0'], 'attr': {'name': 'conv1.conv/Conv2D', 'type': 'Conv2D', 'output_shape': [[1, 56, 56, 51]], 'attr': {'dilations': [1, 1], 'data_format': 'NHWC', 'strides': [4, 4], 'padding': 'VALID', 'kernel_shape': [1, 1], 'weight_shape': [1, 1, 3, 51], 'pads': [0, 0, 0, 0]}, 'input_shape': [[1, 224, 224, 3]]}, 'outbounds': ['conv1.relu.relu/Relu']}, 'conv1.relu.relu/Relu': {'inbounds': ['conv1.conv/Conv2D'], 'attr': {'name': 'conv1.relu.relu/Relu', 'type': 'Relu', 'output_shape': [[1, 56, 56, 51]], 'attr': {}, 'input_shape': [[1, 56, 56, 51]]}, 'outbounds': ['conv1.maxpool/maxpool']}, 'conv1.maxpool/maxpool': {'inbounds': ['conv1.relu.relu/Relu'], 'attr': {'name': 'conv1.maxpool/maxpool', 'type': 'MaxPool', 'output_shape': [[1, 28, 28, 51]], 'attr': {'data_format': 'NHWC', 'strides': [2, 2], 'ksize': [3, 3], 'padding': 'SAME', 'pads': [0, 1, 0, 1]}, 'input_shape': [[1, 56, 56, 51]]}, 'outbounds': ['conv2.conv/Conv2D']}, 'conv2.conv/Conv2D': {'inbounds': ['conv1.maxpool/maxpool'], 'attr': {'name': 'conv2.conv/Conv2D', 'type': 'Conv2D', 'output_shape': [[1, 28, 28, 96]], 'attr': {'dilations': [1, 1], 'data_format': 'NHWC', 'strides': [1, 1], 'padding': 'SAME', 'kernel_shape': [3, 3], 'weight_shape': [3, 3, 51, 96], 'pads': [0, 0, 0, 0]}, 'input_shape': [[1, 28, 28, 51]]}, 'outbounds': ['conv2.relu.relu/Relu']}, 'conv2.relu.relu/Relu': {'inbounds': ['conv2.conv/Conv2D'], 'attr': {'name': 'conv2.relu.relu/Relu', 'type': 'Relu', 'output_shape': [[1, 28, 28, 96]], 'attr': {}, 'input_shape': [[1, 28, 28, 96]]}, 'outbounds': ['conv2.maxpool/maxpool']}, 'conv2.maxpool/maxpool': {'inbounds': ['conv2.relu.relu/Relu'], 'attr': {'name': 'conv2.maxpool/maxpool', 'type': 'MaxPool', 'output_shape': [[1, 13, 13, 96]], 'attr': {'ksize': [3, 3], 'padding': 'VALID', 'strides': [2, 2], 'data_format': 'NHWC', 'pads': [0, 0, 0, 0]}, 'input_shape': [[1, 28, 28, 96]]}, 'outbounds': ['conv3.conv/Conv2D']}, 'conv3.conv/Conv2D': {'inbounds': ['conv2.maxpool/maxpool'], 'attr': {'name': 'conv3.conv/Conv2D', 'type': 'Conv2D', 'output_shape': [[1, 13, 13, 652]], 'attr': {'dilations': [1, 1], 'data_format': 'NHWC', 'strides': [1, 1], 'padding': 'SAME', 'kernel_shape': [3, 3], 'weight_shape': [3, 3, 96, 652], 'pads': [0, 0, 0, 0]}, 'input_shape': [[1, 13, 13, 96]]}, 'outbounds': ['conv3.relu.relu/Relu']}, 'conv3.relu.relu/Relu': {'inbounds': ['conv3.conv/Conv2D'], 'attr': {'name': 'conv3.relu.relu/Relu', 'type': 'Relu', 'output_shape': [[1, 13, 13, 652]], 'attr': {}, 'input_shape': [[1, 13, 13, 652]]}, 'outbounds': ['conv4.conv/Conv2D']}, 'conv4.conv/Conv2D': {'inbounds': ['conv3.relu.relu/Relu'], 'attr': {'name': 'conv4.conv/Conv2D', 'type': 'Conv2D', 'output_shape': [[1, 13, 13, 409]], 'attr': {'dilations': [1, 1], 'strides': [1, 1], 'data_format': 'NHWC', 'padding': 'SAME', 'kernel_shape': [3, 3], 'weight_shape': [3, 3, 652, 409], 'pads': [0, 0, 0, 0]}, 'input_shape': [[1, 13, 13, 652]]}, 'outbounds': ['conv4.relu.relu/Relu']}, 'conv4.relu.relu/Relu': {'inbounds': ['conv4.conv/Conv2D'], 'attr': {'name': 'conv4.relu.relu/Relu', 'type': 'Relu', 'output_shape': [[1, 13, 13, 409]], 'attr': {}, 'input_shape': [[1, 13, 13, 409]]}, 'outbounds': ['conv5.conv/Conv2D']}, 'conv5.conv/Conv2D': {'inbounds': ['conv4.relu.relu/Relu'], 'attr': {'name': 'conv5.conv/Conv2D', 'type': 'Conv2D', 'output_shape': [[1, 13, 13, 435]], 'attr': {'dilations': [1, 1], 'data_format': 'NHWC', 'strides': [1, 1], 'padding': 'SAME', 'kernel_shape': [5, 5], 'weight_shape': [5, 5, 409, 435], 'pads': [0, 0, 0, 0]}, 'input_shape': [[1, 13, 13, 409]]}, 'outbounds': ['conv5.relu.relu/Relu']}, 'conv5.relu.relu/Relu': {'inbounds': ['conv5.conv/Conv2D'], 'attr': {'name': 'conv5.relu.relu/Relu', 'type': 'Relu', 'output_shape': [[1, 13, 13, 435]], 'attr': {}, 'input_shape': [[1, 13, 13, 435]]}, 'outbounds': ['conv5.maxpool/maxpool']}, 'conv5.maxpool/maxpool': {'inbounds': ['conv5.relu.relu/Relu'], 'attr': {'name': 'conv5.maxpool/maxpool', 'type': 'MaxPool', 'output_shape': [[1, 435]], 'attr': {'ksize': [3, 3], 'padding': 'VALID', 'data_format': 'NHWC', 'strides': [2, 2], 'pads': [0, 0, 0, 0]}, 'input_shape': [[1, 13, 13, 435]]}, 'outbounds': ['Mean']}, 'Mean': {'inbounds': ['conv5.maxpool/maxpool'], 'attr': {'name': 'Mean', 'type': 'Mean', 'output_shape': [[1, 435]], 'attr': {'reduction_indices': [1, 2]}, 'input_shape': [[1, 435]]}, 'outbounds': ['Reshape']}, 'Reshape': {'inbounds': ['Mean'], 'attr': {'name': 'Reshape', 'type': 'Reshape', 'output_shape': [[-1, 435]], 'attr': {'shape': [-1, 435]}, 'input_shape': [[1, 435]]}, 'outbounds': ['fc1.fc/MatMul']}, 'fc1.fc/MatMul': {'inbounds': ['Reshape'], 'attr': {'name': 'fc1.fc/MatMul', 'type': 'MatMul', 'output_shape': [[-1, 4915]], 'attr': {}, 'input_shape': [[-1, 435]]}, 'outbounds': ['fc1.relu.relu/Relu']}, 'fc1.relu.relu/Relu': {'inbounds': ['fc1.fc/MatMul'], 'attr': {'name': 'fc1.relu.relu/Relu', 'type': 'Relu', 'output_shape': [[-1, 4915]], 'attr': {}, 'input_shape': [[-1, 4915]]}, 'outbounds': ['fc2.fc/MatMul']}, 'fc2.fc/MatMul': {'inbounds': ['fc1.relu.relu/Relu'], 'attr': {'name': 'fc2.fc/MatMul', 'type': 'MatMul', 'output_shape': [[-1, 3276]], 'attr': {}, 'input_shape': [[-1, 4915]]}, 'outbounds': ['fc2.relu.relu/Relu']}, 'fc2.relu.relu/Relu': {'inbounds': ['fc2.fc/MatMul'], 'attr': {'name': 'fc2.relu.relu/Relu', 'type': 'Relu', 'output_shape': [[-1, 3276]], 'attr': {}, 'input_shape': [[-1, 3276]]}, 'outbounds': ['fc3.fc/MatMul']}, 'fc3.fc/MatMul': {'inbounds': ['fc2.relu.relu/Relu'], 'attr': {'name': 'fc3.fc/MatMul', 'type': 'MatMul', 'output_shape': [[-1, 1000]], 'attr': {}, 'input_shape': [[-1, 3276]]}, 'outbounds': []}}}\n",
      "Sample 3:\n",
      "{'id': 'alexnet_683', 'cortexA76cpu_tflite21': 184.177, 'adreno640gpu_tflite21': 30.3052, 'adreno630gpu_tflite21': 41.3328793, 'myriadvpu_openvino2019r2': 19.303, 'graph': {'input_im_0': {'inbounds': [], 'attr': {'name': 'input_im_0', 'type': 'Placeholder', 'output_shape': [[1, 224, 224, 3]], 'attr': {'shape': [1, 224, 224, 3]}, 'input_shape': []}, 'outbounds': ['conv1.conv/Conv2D']}, 'conv1.conv/Conv2D': {'inbounds': ['input_im_0'], 'attr': {'name': 'conv1.conv/Conv2D', 'type': 'Conv2D', 'output_shape': [[1, 56, 56, 76]], 'attr': {'dilations': [1, 1], 'strides': [4, 4], 'data_format': 'NHWC', 'padding': 'VALID', 'kernel_shape': [3, 3], 'weight_shape': [3, 3, 3, 76], 'pads': [0, 0, 0, 0]}, 'input_shape': [[1, 224, 224, 3]]}, 'outbounds': ['conv1.relu.relu/Relu']}, 'conv1.relu.relu/Relu': {'inbounds': ['conv1.conv/Conv2D'], 'attr': {'name': 'conv1.relu.relu/Relu', 'type': 'Relu', 'output_shape': [[1, 56, 56, 76]], 'attr': {}, 'input_shape': [[1, 56, 56, 76]]}, 'outbounds': ['conv1.maxpool/maxpool']}, 'conv1.maxpool/maxpool': {'inbounds': ['conv1.relu.relu/Relu'], 'attr': {'name': 'conv1.maxpool/maxpool', 'type': 'MaxPool', 'output_shape': [[1, 28, 28, 76]], 'attr': {'data_format': 'NHWC', 'strides': [2, 2], 'ksize': [3, 3], 'padding': 'SAME', 'pads': [0, 1, 0, 1]}, 'input_shape': [[1, 56, 56, 76]]}, 'outbounds': ['conv2.conv/Conv2D']}, 'conv2.conv/Conv2D': {'inbounds': ['conv1.maxpool/maxpool'], 'attr': {'name': 'conv2.conv/Conv2D', 'type': 'Conv2D', 'output_shape': [[1, 28, 28, 96]], 'attr': {'dilations': [1, 1], 'strides': [1, 1], 'data_format': 'NHWC', 'padding': 'SAME', 'kernel_shape': [3, 3], 'weight_shape': [3, 3, 76, 96], 'pads': [0, 0, 0, 0]}, 'input_shape': [[1, 28, 28, 76]]}, 'outbounds': ['conv2.relu.relu/Relu']}, 'conv2.relu.relu/Relu': {'inbounds': ['conv2.conv/Conv2D'], 'attr': {'name': 'conv2.relu.relu/Relu', 'type': 'Relu', 'output_shape': [[1, 28, 28, 96]], 'attr': {}, 'input_shape': [[1, 28, 28, 96]]}, 'outbounds': ['conv2.maxpool/maxpool']}, 'conv2.maxpool/maxpool': {'inbounds': ['conv2.relu.relu/Relu'], 'attr': {'name': 'conv2.maxpool/maxpool', 'type': 'MaxPool', 'output_shape': [[1, 13, 13, 96]], 'attr': {'data_format': 'NHWC', 'strides': [2, 2], 'ksize': [3, 3], 'padding': 'VALID', 'pads': [0, 0, 0, 0]}, 'input_shape': [[1, 28, 28, 96]]}, 'outbounds': ['conv3.conv/Conv2D']}, 'conv3.conv/Conv2D': {'inbounds': ['conv2.maxpool/maxpool'], 'attr': {'name': 'conv3.conv/Conv2D', 'type': 'Conv2D', 'output_shape': [[1, 13, 13, 422]], 'attr': {'data_format': 'NHWC', 'strides': [1, 1], 'padding': 'SAME', 'dilations': [1, 1], 'kernel_shape': [3, 3], 'weight_shape': [3, 3, 96, 422], 'pads': [0, 0, 0, 0]}, 'input_shape': [[1, 13, 13, 96]]}, 'outbounds': ['conv3.relu.relu/Relu']}, 'conv3.relu.relu/Relu': {'inbounds': ['conv3.conv/Conv2D'], 'attr': {'name': 'conv3.relu.relu/Relu', 'type': 'Relu', 'output_shape': [[1, 13, 13, 422]], 'attr': {}, 'input_shape': [[1, 13, 13, 422]]}, 'outbounds': ['conv4.conv/Conv2D']}, 'conv4.conv/Conv2D': {'inbounds': ['conv3.relu.relu/Relu'], 'attr': {'name': 'conv4.conv/Conv2D', 'type': 'Conv2D', 'output_shape': [[1, 13, 13, 384]], 'attr': {'dilations': [1, 1], 'data_format': 'NHWC', 'strides': [1, 1], 'padding': 'SAME', 'kernel_shape': [5, 5], 'weight_shape': [5, 5, 422, 384], 'pads': [0, 0, 0, 0]}, 'input_shape': [[1, 13, 13, 422]]}, 'outbounds': ['conv4.relu.relu/Relu']}, 'conv4.relu.relu/Relu': {'inbounds': ['conv4.conv/Conv2D'], 'attr': {'name': 'conv4.relu.relu/Relu', 'type': 'Relu', 'output_shape': [[1, 13, 13, 384]], 'attr': {}, 'input_shape': [[1, 13, 13, 384]]}, 'outbounds': ['conv5.conv/Conv2D']}, 'conv5.conv/Conv2D': {'inbounds': ['conv4.relu.relu/Relu'], 'attr': {'name': 'conv5.conv/Conv2D', 'type': 'Conv2D', 'output_shape': [[1, 13, 13, 255]], 'attr': {'dilations': [1, 1], 'data_format': 'NHWC', 'strides': [1, 1], 'padding': 'SAME', 'kernel_shape': [7, 7], 'weight_shape': [7, 7, 384, 255], 'pads': [0, 0, 0, 0]}, 'input_shape': [[1, 13, 13, 384]]}, 'outbounds': ['conv5.relu.relu/Relu']}, 'conv5.relu.relu/Relu': {'inbounds': ['conv5.conv/Conv2D'], 'attr': {'name': 'conv5.relu.relu/Relu', 'type': 'Relu', 'output_shape': [[1, 13, 13, 255]], 'attr': {}, 'input_shape': [[1, 13, 13, 255]]}, 'outbounds': ['conv5.maxpool/maxpool']}, 'conv5.maxpool/maxpool': {'inbounds': ['conv5.relu.relu/Relu'], 'attr': {'name': 'conv5.maxpool/maxpool', 'type': 'MaxPool', 'output_shape': [[1, 255]], 'attr': {'ksize': [3, 3], 'padding': 'VALID', 'data_format': 'NHWC', 'strides': [2, 2], 'pads': [0, 0, 0, 0]}, 'input_shape': [[1, 13, 13, 255]]}, 'outbounds': ['Mean']}, 'Mean': {'inbounds': ['conv5.maxpool/maxpool'], 'attr': {'name': 'Mean', 'type': 'Mean', 'output_shape': [[1, 255]], 'attr': {'reduction_indices': [1, 2]}, 'input_shape': [[1, 255]]}, 'outbounds': ['Reshape']}, 'Reshape': {'inbounds': ['Mean'], 'attr': {'name': 'Reshape', 'type': 'Reshape', 'output_shape': [[-1, 255]], 'attr': {'shape': [-1, 255]}, 'input_shape': [[1, 255]]}, 'outbounds': ['fc1.fc/MatMul']}, 'fc1.fc/MatMul': {'inbounds': ['Reshape'], 'attr': {'name': 'fc1.fc/MatMul', 'type': 'MatMul', 'output_shape': [[-1, 2867]], 'attr': {}, 'input_shape': [[-1, 255]]}, 'outbounds': ['fc1.relu.relu/Relu']}, 'fc1.relu.relu/Relu': {'inbounds': ['fc1.fc/MatMul'], 'attr': {'name': 'fc1.relu.relu/Relu', 'type': 'Relu', 'output_shape': [[-1, 2867]], 'attr': {}, 'input_shape': [[-1, 2867]]}, 'outbounds': ['fc2.fc/MatMul']}, 'fc2.fc/MatMul': {'inbounds': ['fc1.relu.relu/Relu'], 'attr': {'name': 'fc2.fc/MatMul', 'type': 'MatMul', 'output_shape': [[-1, 5734]], 'attr': {}, 'input_shape': [[-1, 2867]]}, 'outbounds': ['fc2.relu.relu/Relu']}, 'fc2.relu.relu/Relu': {'inbounds': ['fc2.fc/MatMul'], 'attr': {'name': 'fc2.relu.relu/Relu', 'type': 'Relu', 'output_shape': [[-1, 5734]], 'attr': {}, 'input_shape': [[-1, 5734]]}, 'outbounds': ['fc3.fc/MatMul']}, 'fc3.fc/MatMul': {'inbounds': ['fc2.relu.relu/Relu'], 'attr': {'name': 'fc3.fc/MatMul', 'type': 'MatMul', 'output_shape': [[-1, 1000]], 'attr': {}, 'input_shape': [[-1, 5734]]}, 'outbounds': []}}}\n"
     ]
    }
   ],
   "source": [
    "import json\n",
    "\n",
    "jsonl_path = './data/datasets—nnmeter/alexnets.jsonl'\n",
    "\n",
    "data = []\n",
    "with open(jsonl_path, 'r') as f:\n",
    "    for line in f:\n",
    "        data.append(json.loads(line))\n",
    "\n",
    "# 打印前几个样本查看格式\n",
    "for i, item in enumerate(data[:3]):\n",
    "    print(f\"Sample {i+1}:\")\n",
    "    print(item)\n",
    "\n",
    "# jsonl_path = './data/datasets—nnmeter/mobilenetv3s.jsonl'\n",
    "# data = []\n",
    "# with open(jsonl_path, 'r') as f:\n",
    "#     for line in f:\n",
    "#         data.append(json.loads(line))\n",
    "# # 打印前几个样本查看格式\n",
    "# for i, item in enumerate(data[:3]):\n",
    "#     print(f\"Sample {i+1}:\")\n",
    "#     print(item)"
   ]
  },
  {
   "cell_type": "code",
   "execution_count": 2,
   "id": "c5d3311d",
   "metadata": {},
   "outputs": [
    {
     "data": {
      "text/plain": [
       "1998"
      ]
     },
     "execution_count": 2,
     "metadata": {},
     "output_type": "execute_result"
    }
   ],
   "source": [
    "len(data)"
   ]
  },
  {
   "cell_type": "code",
   "execution_count": 3,
   "id": "9ad72836",
   "metadata": {},
   "outputs": [],
   "source": [
    "data = data[0]"
   ]
  },
  {
   "cell_type": "code",
   "execution_count": 4,
   "id": "b5e43426",
   "metadata": {},
   "outputs": [
    {
     "data": {
      "text/plain": [
       "dict_keys(['id', 'cortexA76cpu_tflite21', 'adreno640gpu_tflite21', 'adreno630gpu_tflite21', 'myriadvpu_openvino2019r2', 'graph'])"
      ]
     },
     "execution_count": 4,
     "metadata": {},
     "output_type": "execute_result"
    }
   ],
   "source": [
    "data.keys()"
   ]
  },
  {
   "cell_type": "code",
   "execution_count": 5,
   "id": "42828e92",
   "metadata": {},
   "outputs": [
    {
     "data": {
      "text/plain": [
       "'alexnet_1356'"
      ]
     },
     "execution_count": 5,
     "metadata": {},
     "output_type": "execute_result"
    }
   ],
   "source": [
    "data['id']"
   ]
  },
  {
   "cell_type": "code",
   "execution_count": 6,
   "id": "e6d61f31",
   "metadata": {},
   "outputs": [
    {
     "data": {
      "text/plain": [
       "(148.164, 24.4851, 31.932404999999996, 15.486)"
      ]
     },
     "execution_count": 6,
     "metadata": {},
     "output_type": "execute_result"
    }
   ],
   "source": [
    "data['cortexA76cpu_tflite21'], data['adreno640gpu_tflite21'], data['adreno630gpu_tflite21'], data['myriadvpu_openvino2019r2']"
   ]
  },
  {
   "cell_type": "code",
   "execution_count": 7,
   "id": "96cdcb73",
   "metadata": {},
   "outputs": [
    {
     "data": {
      "text/plain": [
       "{'input_im_0': {'inbounds': [],\n",
       "  'attr': {'name': 'input_im_0',\n",
       "   'type': 'Placeholder',\n",
       "   'output_shape': [[1, 224, 224, 3]],\n",
       "   'attr': {'shape': [1, 224, 224, 3]},\n",
       "   'input_shape': []},\n",
       "  'outbounds': ['conv1.conv/Conv2D']},\n",
       " 'conv1.conv/Conv2D': {'inbounds': ['input_im_0'],\n",
       "  'attr': {'name': 'conv1.conv/Conv2D',\n",
       "   'type': 'Conv2D',\n",
       "   'output_shape': [[1, 56, 56, 63]],\n",
       "   'attr': {'dilations': [1, 1],\n",
       "    'strides': [4, 4],\n",
       "    'data_format': 'NHWC',\n",
       "    'padding': 'VALID',\n",
       "    'kernel_shape': [7, 7],\n",
       "    'weight_shape': [7, 7, 3, 63],\n",
       "    'pads': [0, 0, 0, 0]},\n",
       "   'input_shape': [[1, 224, 224, 3]]},\n",
       "  'outbounds': ['conv1.relu.relu/Relu']},\n",
       " 'conv1.relu.relu/Relu': {'inbounds': ['conv1.conv/Conv2D'],\n",
       "  'attr': {'name': 'conv1.relu.relu/Relu',\n",
       "   'type': 'Relu',\n",
       "   'output_shape': [[1, 56, 56, 63]],\n",
       "   'attr': {},\n",
       "   'input_shape': [[1, 56, 56, 63]]},\n",
       "  'outbounds': ['conv1.maxpool/maxpool']},\n",
       " 'conv1.maxpool/maxpool': {'inbounds': ['conv1.relu.relu/Relu'],\n",
       "  'attr': {'name': 'conv1.maxpool/maxpool',\n",
       "   'type': 'MaxPool',\n",
       "   'output_shape': [[1, 28, 28, 63]],\n",
       "   'attr': {'strides': [2, 2],\n",
       "    'data_format': 'NHWC',\n",
       "    'ksize': [3, 3],\n",
       "    'padding': 'SAME',\n",
       "    'pads': [0, 1, 0, 1]},\n",
       "   'input_shape': [[1, 56, 56, 63]]},\n",
       "  'outbounds': ['conv2.conv/Conv2D']},\n",
       " 'conv2.conv/Conv2D': {'inbounds': ['conv1.maxpool/maxpool'],\n",
       "  'attr': {'name': 'conv2.conv/Conv2D',\n",
       "   'type': 'Conv2D',\n",
       "   'output_shape': [[1, 28, 28, 38]],\n",
       "   'attr': {'padding': 'SAME',\n",
       "    'dilations': [1, 1],\n",
       "    'strides': [1, 1],\n",
       "    'data_format': 'NHWC',\n",
       "    'kernel_shape': [1, 1],\n",
       "    'weight_shape': [1, 1, 63, 38],\n",
       "    'pads': [0, 0, 0, 0]},\n",
       "   'input_shape': [[1, 28, 28, 63]]},\n",
       "  'outbounds': ['conv2.relu.relu/Relu']},\n",
       " 'conv2.relu.relu/Relu': {'inbounds': ['conv2.conv/Conv2D'],\n",
       "  'attr': {'name': 'conv2.relu.relu/Relu',\n",
       "   'type': 'Relu',\n",
       "   'output_shape': [[1, 28, 28, 38]],\n",
       "   'attr': {},\n",
       "   'input_shape': [[1, 28, 28, 38]]},\n",
       "  'outbounds': ['conv2.maxpool/maxpool']},\n",
       " 'conv2.maxpool/maxpool': {'inbounds': ['conv2.relu.relu/Relu'],\n",
       "  'attr': {'name': 'conv2.maxpool/maxpool',\n",
       "   'type': 'MaxPool',\n",
       "   'output_shape': [[1, 13, 13, 38]],\n",
       "   'attr': {'ksize': [3, 3],\n",
       "    'padding': 'VALID',\n",
       "    'strides': [2, 2],\n",
       "    'data_format': 'NHWC',\n",
       "    'pads': [0, 0, 0, 0]},\n",
       "   'input_shape': [[1, 28, 28, 38]]},\n",
       "  'outbounds': ['conv3.conv/Conv2D']},\n",
       " 'conv3.conv/Conv2D': {'inbounds': ['conv2.maxpool/maxpool'],\n",
       "  'attr': {'name': 'conv3.conv/Conv2D',\n",
       "   'type': 'Conv2D',\n",
       "   'output_shape': [[1, 13, 13, 652]],\n",
       "   'attr': {'dilations': [1, 1],\n",
       "    'strides': [1, 1],\n",
       "    'data_format': 'NHWC',\n",
       "    'padding': 'SAME',\n",
       "    'kernel_shape': [3, 3],\n",
       "    'weight_shape': [3, 3, 38, 652],\n",
       "    'pads': [0, 0, 0, 0]},\n",
       "   'input_shape': [[1, 13, 13, 38]]},\n",
       "  'outbounds': ['conv3.relu.relu/Relu']},\n",
       " 'conv3.relu.relu/Relu': {'inbounds': ['conv3.conv/Conv2D'],\n",
       "  'attr': {'name': 'conv3.relu.relu/Relu',\n",
       "   'type': 'Relu',\n",
       "   'output_shape': [[1, 13, 13, 652]],\n",
       "   'attr': {},\n",
       "   'input_shape': [[1, 13, 13, 652]]},\n",
       "  'outbounds': ['conv4.conv/Conv2D']},\n",
       " 'conv4.conv/Conv2D': {'inbounds': ['conv3.relu.relu/Relu'],\n",
       "  'attr': {'name': 'conv4.conv/Conv2D',\n",
       "   'type': 'Conv2D',\n",
       "   'output_shape': [[1, 13, 13, 204]],\n",
       "   'attr': {'dilations': [1, 1],\n",
       "    'strides': [1, 1],\n",
       "    'data_format': 'NHWC',\n",
       "    'padding': 'SAME',\n",
       "    'kernel_shape': [7, 7],\n",
       "    'weight_shape': [7, 7, 652, 204],\n",
       "    'pads': [0, 0, 0, 0]},\n",
       "   'input_shape': [[1, 13, 13, 652]]},\n",
       "  'outbounds': ['conv4.relu.relu/Relu']},\n",
       " 'conv4.relu.relu/Relu': {'inbounds': ['conv4.conv/Conv2D'],\n",
       "  'attr': {'name': 'conv4.relu.relu/Relu',\n",
       "   'type': 'Relu',\n",
       "   'output_shape': [[1, 13, 13, 204]],\n",
       "   'attr': {},\n",
       "   'input_shape': [[1, 13, 13, 204]]},\n",
       "  'outbounds': ['conv5.conv/Conv2D']},\n",
       " 'conv5.conv/Conv2D': {'inbounds': ['conv4.relu.relu/Relu'],\n",
       "  'attr': {'name': 'conv5.conv/Conv2D',\n",
       "   'type': 'Conv2D',\n",
       "   'output_shape': [[1, 13, 13, 179]],\n",
       "   'attr': {'padding': 'SAME',\n",
       "    'dilations': [1, 1],\n",
       "    'strides': [1, 1],\n",
       "    'data_format': 'NHWC',\n",
       "    'kernel_shape': [3, 3],\n",
       "    'weight_shape': [3, 3, 204, 179],\n",
       "    'pads': [0, 0, 0, 0]},\n",
       "   'input_shape': [[1, 13, 13, 204]]},\n",
       "  'outbounds': ['conv5.relu.relu/Relu']},\n",
       " 'conv5.relu.relu/Relu': {'inbounds': ['conv5.conv/Conv2D'],\n",
       "  'attr': {'name': 'conv5.relu.relu/Relu',\n",
       "   'type': 'Relu',\n",
       "   'output_shape': [[1, 13, 13, 179]],\n",
       "   'attr': {},\n",
       "   'input_shape': [[1, 13, 13, 179]]},\n",
       "  'outbounds': ['conv5.maxpool/maxpool']},\n",
       " 'conv5.maxpool/maxpool': {'inbounds': ['conv5.relu.relu/Relu'],\n",
       "  'attr': {'name': 'conv5.maxpool/maxpool',\n",
       "   'type': 'MaxPool',\n",
       "   'output_shape': [[1, 179]],\n",
       "   'attr': {'padding': 'VALID',\n",
       "    'strides': [2, 2],\n",
       "    'data_format': 'NHWC',\n",
       "    'ksize': [3, 3],\n",
       "    'pads': [0, 0, 0, 0]},\n",
       "   'input_shape': [[1, 13, 13, 179]]},\n",
       "  'outbounds': ['Mean']},\n",
       " 'Mean': {'inbounds': ['conv5.maxpool/maxpool'],\n",
       "  'attr': {'name': 'Mean',\n",
       "   'type': 'Mean',\n",
       "   'output_shape': [[1, 179]],\n",
       "   'attr': {'reduction_indices': [1, 2]},\n",
       "   'input_shape': [[1, 179]]},\n",
       "  'outbounds': ['Reshape']},\n",
       " 'Reshape': {'inbounds': ['Mean'],\n",
       "  'attr': {'name': 'Reshape',\n",
       "   'type': 'Reshape',\n",
       "   'output_shape': [[-1, 179]],\n",
       "   'attr': {'shape': [-1, 179]},\n",
       "   'input_shape': [[1, 179]]},\n",
       "  'outbounds': ['fc1.fc/MatMul']},\n",
       " 'fc1.fc/MatMul': {'inbounds': ['Reshape'],\n",
       "  'attr': {'name': 'fc1.fc/MatMul',\n",
       "   'type': 'MatMul',\n",
       "   'output_shape': [[-1, 2867]],\n",
       "   'attr': {},\n",
       "   'input_shape': [[-1, 179]]},\n",
       "  'outbounds': ['fc1.relu.relu/Relu']},\n",
       " 'fc1.relu.relu/Relu': {'inbounds': ['fc1.fc/MatMul'],\n",
       "  'attr': {'name': 'fc1.relu.relu/Relu',\n",
       "   'type': 'Relu',\n",
       "   'output_shape': [[-1, 2867]],\n",
       "   'attr': {},\n",
       "   'input_shape': [[-1, 2867]]},\n",
       "  'outbounds': ['fc2.fc/MatMul']},\n",
       " 'fc2.fc/MatMul': {'inbounds': ['fc1.relu.relu/Relu'],\n",
       "  'attr': {'name': 'fc2.fc/MatMul',\n",
       "   'type': 'MatMul',\n",
       "   'output_shape': [[-1, 4505]],\n",
       "   'attr': {},\n",
       "   'input_shape': [[-1, 2867]]},\n",
       "  'outbounds': ['fc2.relu.relu/Relu']},\n",
       " 'fc2.relu.relu/Relu': {'inbounds': ['fc2.fc/MatMul'],\n",
       "  'attr': {'name': 'fc2.relu.relu/Relu',\n",
       "   'type': 'Relu',\n",
       "   'output_shape': [[-1, 4505]],\n",
       "   'attr': {},\n",
       "   'input_shape': [[-1, 4505]]},\n",
       "  'outbounds': ['fc3.fc/MatMul']},\n",
       " 'fc3.fc/MatMul': {'inbounds': ['fc2.relu.relu/Relu'],\n",
       "  'attr': {'name': 'fc3.fc/MatMul',\n",
       "   'type': 'MatMul',\n",
       "   'output_shape': [[-1, 1000]],\n",
       "   'attr': {},\n",
       "   'input_shape': [[-1, 4505]]},\n",
       "  'outbounds': []}}"
      ]
     },
     "execution_count": 7,
     "metadata": {},
     "output_type": "execute_result"
    }
   ],
   "source": [
    "data['graph']"
   ]
  },
  {
   "cell_type": "code",
   "execution_count": 36,
   "id": "c4c71b29",
   "metadata": {},
   "outputs": [
    {
     "data": {
      "text/plain": [
       "<nn_meter.utils.graph_tool.ModelGraph at 0x7c4e7f67d790>"
      ]
     },
     "execution_count": 36,
     "metadata": {},
     "output_type": "execute_result"
    }
   ],
   "source": [
    "from nn_meter.utils.graph_tool import ModelGraph\n",
    "import json\n",
    "import networkx as nx\n",
    "data = []\n",
    "with open(jsonl_path, 'r') as f:\n",
    "    for line in f:\n",
    "        data.append(json.loads(line))\n",
    "data = data[0]['graph']\n",
    "graph = convert_to_graph(graph_data)\n",
    "graph"
   ]
  },
  {
   "cell_type": "code",
   "execution_count": null,
   "id": "23cf3f93",
   "metadata": {},
   "outputs": [
    {
     "ename": "JSONDecodeError",
     "evalue": "Extra data: line 2 column 1 (char 6044)",
     "output_type": "error",
     "traceback": [
      "\u001b[0;31m---------------------------------------------------------------------------\u001b[0m",
      "\u001b[0;31mJSONDecodeError\u001b[0m                           Traceback (most recent call last)",
      "Cell \u001b[0;32mIn[33], line 21\u001b[0m\n\u001b[1;32m     18\u001b[0m \u001b[38;5;66;03m# 替换为你的nn - Meter IR Graph格式的JSON文件路径\u001b[39;00m\n\u001b[1;32m     19\u001b[0m \u001b[38;5;66;03m# json_file_path = \"data/datasets—nnmeter/graph/alexnet_0.json\"\u001b[39;00m\n\u001b[1;32m     20\u001b[0m json_file_path \u001b[38;5;241m=\u001b[39m \u001b[38;5;124m\"\u001b[39m\u001b[38;5;124m./data/datasets—nnmeter/alexnets.jsonl\u001b[39m\u001b[38;5;124m\"\u001b[39m\n\u001b[0;32m---> 21\u001b[0m graph_data \u001b[38;5;241m=\u001b[39m load_nn_meter_ir_graph(json_file_path)\n\u001b[1;32m     22\u001b[0m graph \u001b[38;5;241m=\u001b[39m convert_to_graph(graph_data)\n\u001b[1;32m     24\u001b[0m \u001b[38;5;66;03m# 将ModelGraph对象转换为networkx图\u001b[39;00m\n",
      "Cell \u001b[0;32mIn[33], line 8\u001b[0m, in \u001b[0;36mload_nn_meter_ir_graph\u001b[0;34m(json_file_path)\u001b[0m\n\u001b[1;32m      6\u001b[0m \u001b[38;5;28;01mdef\u001b[39;00m \u001b[38;5;21mload_nn_meter_ir_graph\u001b[39m(json_file_path):\n\u001b[1;32m      7\u001b[0m     \u001b[38;5;28;01mwith\u001b[39;00m \u001b[38;5;28mopen\u001b[39m(json_file_path, \u001b[38;5;124m'\u001b[39m\u001b[38;5;124mr\u001b[39m\u001b[38;5;124m'\u001b[39m) \u001b[38;5;28;01mas\u001b[39;00m f:\n\u001b[0;32m----> 8\u001b[0m         graph_data \u001b[38;5;241m=\u001b[39m json\u001b[38;5;241m.\u001b[39mload(f)\n\u001b[1;32m      9\u001b[0m     \u001b[38;5;28;01mreturn\u001b[39;00m graph_data\n",
      "File \u001b[0;32m~/anaconda3/lib/python3.12/json/__init__.py:293\u001b[0m, in \u001b[0;36mload\u001b[0;34m(fp, cls, object_hook, parse_float, parse_int, parse_constant, object_pairs_hook, **kw)\u001b[0m\n\u001b[1;32m    274\u001b[0m \u001b[38;5;28;01mdef\u001b[39;00m \u001b[38;5;21mload\u001b[39m(fp, \u001b[38;5;241m*\u001b[39m, \u001b[38;5;28mcls\u001b[39m\u001b[38;5;241m=\u001b[39m\u001b[38;5;28;01mNone\u001b[39;00m, object_hook\u001b[38;5;241m=\u001b[39m\u001b[38;5;28;01mNone\u001b[39;00m, parse_float\u001b[38;5;241m=\u001b[39m\u001b[38;5;28;01mNone\u001b[39;00m,\n\u001b[1;32m    275\u001b[0m         parse_int\u001b[38;5;241m=\u001b[39m\u001b[38;5;28;01mNone\u001b[39;00m, parse_constant\u001b[38;5;241m=\u001b[39m\u001b[38;5;28;01mNone\u001b[39;00m, object_pairs_hook\u001b[38;5;241m=\u001b[39m\u001b[38;5;28;01mNone\u001b[39;00m, \u001b[38;5;241m*\u001b[39m\u001b[38;5;241m*\u001b[39mkw):\n\u001b[1;32m    276\u001b[0m \u001b[38;5;250m    \u001b[39m\u001b[38;5;124;03m\"\"\"Deserialize ``fp`` (a ``.read()``-supporting file-like object containing\u001b[39;00m\n\u001b[1;32m    277\u001b[0m \u001b[38;5;124;03m    a JSON document) to a Python object.\u001b[39;00m\n\u001b[1;32m    278\u001b[0m \n\u001b[0;32m   (...)\u001b[0m\n\u001b[1;32m    291\u001b[0m \u001b[38;5;124;03m    kwarg; otherwise ``JSONDecoder`` is used.\u001b[39;00m\n\u001b[1;32m    292\u001b[0m \u001b[38;5;124;03m    \"\"\"\u001b[39;00m\n\u001b[0;32m--> 293\u001b[0m     \u001b[38;5;28;01mreturn\u001b[39;00m loads(fp\u001b[38;5;241m.\u001b[39mread(),\n\u001b[1;32m    294\u001b[0m         \u001b[38;5;28mcls\u001b[39m\u001b[38;5;241m=\u001b[39m\u001b[38;5;28mcls\u001b[39m, object_hook\u001b[38;5;241m=\u001b[39mobject_hook,\n\u001b[1;32m    295\u001b[0m         parse_float\u001b[38;5;241m=\u001b[39mparse_float, parse_int\u001b[38;5;241m=\u001b[39mparse_int,\n\u001b[1;32m    296\u001b[0m         parse_constant\u001b[38;5;241m=\u001b[39mparse_constant, object_pairs_hook\u001b[38;5;241m=\u001b[39mobject_pairs_hook, \u001b[38;5;241m*\u001b[39m\u001b[38;5;241m*\u001b[39mkw)\n",
      "File \u001b[0;32m~/anaconda3/lib/python3.12/json/__init__.py:346\u001b[0m, in \u001b[0;36mloads\u001b[0;34m(s, cls, object_hook, parse_float, parse_int, parse_constant, object_pairs_hook, **kw)\u001b[0m\n\u001b[1;32m    341\u001b[0m     s \u001b[38;5;241m=\u001b[39m s\u001b[38;5;241m.\u001b[39mdecode(detect_encoding(s), \u001b[38;5;124m'\u001b[39m\u001b[38;5;124msurrogatepass\u001b[39m\u001b[38;5;124m'\u001b[39m)\n\u001b[1;32m    343\u001b[0m \u001b[38;5;28;01mif\u001b[39;00m (\u001b[38;5;28mcls\u001b[39m \u001b[38;5;129;01mis\u001b[39;00m \u001b[38;5;28;01mNone\u001b[39;00m \u001b[38;5;129;01mand\u001b[39;00m object_hook \u001b[38;5;129;01mis\u001b[39;00m \u001b[38;5;28;01mNone\u001b[39;00m \u001b[38;5;129;01mand\u001b[39;00m\n\u001b[1;32m    344\u001b[0m         parse_int \u001b[38;5;129;01mis\u001b[39;00m \u001b[38;5;28;01mNone\u001b[39;00m \u001b[38;5;129;01mand\u001b[39;00m parse_float \u001b[38;5;129;01mis\u001b[39;00m \u001b[38;5;28;01mNone\u001b[39;00m \u001b[38;5;129;01mand\u001b[39;00m\n\u001b[1;32m    345\u001b[0m         parse_constant \u001b[38;5;129;01mis\u001b[39;00m \u001b[38;5;28;01mNone\u001b[39;00m \u001b[38;5;129;01mand\u001b[39;00m object_pairs_hook \u001b[38;5;129;01mis\u001b[39;00m \u001b[38;5;28;01mNone\u001b[39;00m \u001b[38;5;129;01mand\u001b[39;00m \u001b[38;5;129;01mnot\u001b[39;00m kw):\n\u001b[0;32m--> 346\u001b[0m     \u001b[38;5;28;01mreturn\u001b[39;00m _default_decoder\u001b[38;5;241m.\u001b[39mdecode(s)\n\u001b[1;32m    347\u001b[0m \u001b[38;5;28;01mif\u001b[39;00m \u001b[38;5;28mcls\u001b[39m \u001b[38;5;129;01mis\u001b[39;00m \u001b[38;5;28;01mNone\u001b[39;00m:\n\u001b[1;32m    348\u001b[0m     \u001b[38;5;28mcls\u001b[39m \u001b[38;5;241m=\u001b[39m JSONDecoder\n",
      "File \u001b[0;32m~/anaconda3/lib/python3.12/json/decoder.py:340\u001b[0m, in \u001b[0;36mJSONDecoder.decode\u001b[0;34m(self, s, _w)\u001b[0m\n\u001b[1;32m    338\u001b[0m end \u001b[38;5;241m=\u001b[39m _w(s, end)\u001b[38;5;241m.\u001b[39mend()\n\u001b[1;32m    339\u001b[0m \u001b[38;5;28;01mif\u001b[39;00m end \u001b[38;5;241m!=\u001b[39m \u001b[38;5;28mlen\u001b[39m(s):\n\u001b[0;32m--> 340\u001b[0m     \u001b[38;5;28;01mraise\u001b[39;00m JSONDecodeError(\u001b[38;5;124m\"\u001b[39m\u001b[38;5;124mExtra data\u001b[39m\u001b[38;5;124m\"\u001b[39m, s, end)\n\u001b[1;32m    341\u001b[0m \u001b[38;5;28;01mreturn\u001b[39;00m obj\n",
      "\u001b[0;31mJSONDecodeError\u001b[0m: Extra data: line 2 column 1 (char 6044)"
     ]
    }
   ],
   "source": [
    "from nn_meter.utils.graph_tool import ModelGraph\n",
    "import json\n",
    "import networkx as nx\n",
    "\n",
    "# 加载nn - Meter IR Graph格式的JSON文件\n",
    "def load_nn_meter_ir_graph(json_file_path):\n",
    "    with open(json_file_path, 'r') as f:\n",
    "        graph_data = json.load(f)\n",
    "    return graph_data\n",
    "\n",
    "# 将JSON数据转换为图结构\n",
    "def convert_to_graph(graph_data):\n",
    "    model_graph = ModelGraph(graph=graph_data)\n",
    "    # 刷新图结构，确保入边和出边信息准确\n",
    "    model_graph.refresh()\n",
    "    return model_graph\n",
    "\n",
    "# 替换为你的nn - Meter IR Graph格式的JSON文件路径\n",
    "# json_file_path = \"data/datasets—nnmeter/graph/alexnet_0.json\"\n",
    "json_file_path = \"./data/datasets—nnmeter/alexnets.jsonl\"\n",
    "graph_data = load_nn_meter_ir_graph(json_file_path)\n",
    "graph = convert_to_graph(graph_data)\n",
    "\n",
    "# 将ModelGraph对象转换为networkx图\n",
    "networkx_graph = graph.get_networkx_graph()\n",
    "\n",
    "# 打印图的基本信息\n",
    "print(f\"节点数量: {networkx_graph.number_of_nodes()}\")\n",
    "print(f\"边的数量: {networkx_graph.number_of_edges()}\")\n",
    "\n",
    "# 查看节点的属性\n",
    "for node, data in networkx_graph.nodes(data=True):\n",
    "    print(f\"节点: {node}, 属性: {data}\")\n",
    "\n",
    "# 查看边的属性\n",
    "for u, v, data in networkx_graph.edges(data=True):\n",
    "    print(f\"边: ({u}, {v}), 属性: {data}\")"
   ]
  },
  {
   "cell_type": "code",
   "execution_count": 9,
   "id": "e46e6d94",
   "metadata": {},
   "outputs": [
    {
     "data": {
      "text/plain": [
       "networkx.classes.multidigraph.MultiDiGraph"
      ]
     },
     "execution_count": 9,
     "metadata": {},
     "output_type": "execute_result"
    }
   ],
   "source": [
    "type(networkx_graph)"
   ]
  },
  {
   "cell_type": "code",
   "execution_count": 10,
   "id": "28c5fb3e",
   "metadata": {},
   "outputs": [
    {
     "data": {
      "image/png": "[encoded data removed]",
      "text/plain": [
       "<Figure size 640x480 with 1 Axes>"
      ]
     },
     "metadata": {},
     "output_type": "display_data"
    }
   ],
   "source": [
    "graph.plot_graphs()\n",
    "graph.plot_networkx_graph()"
   ]
  },
  {
   "cell_type": "code",
   "execution_count": 22,
   "id": "e7914872",
   "metadata": {},
   "outputs": [
    {
     "name": "stdout",
     "output_type": "stream",
     "text": [
      "提取的特征: [14, 98, 120, 3, 1, 20.76816, 0.10596]\n"
     ]
    }
   ],
   "source": [
    "from nn_meter.builder.kernel_predictor_builder.predictor_builder.extract_feature import BaseFeatureParser, FlopsParamParser, get_feature_parser\n",
    "\n",
    "# 假设内核类型为 'conv-bn-relu'\n",
    "kernel_type = 'conv-bn-relu'\n",
    "# 获取特征解析器\n",
    "parser = get_feature_parser(kernel_type)\n",
    "\n",
    "# 示例配置字典\n",
    "config_dict = {\n",
    "    \"HW\": 14,\n",
    "    \"CIN\": 98,\n",
    "    \"COUT\": 120,\n",
    "    \"KERNEL_SIZE\": 3,\n",
    "    \"STRIDES\": 1\n",
    "}\n",
    "\n",
    "# 提取特征\n",
    "features = parser.get_feature_by_config(config_dict)\n",
    "print(f\"提取的特征: {features}\")"
   ]
  },
  {
   "cell_type": "code",
   "execution_count": null,
   "id": "f646ba47",
   "metadata": {},
   "outputs": [
    {
     "name": "stdout",
     "output_type": "stream",
     "text": [
      "第一个节点(input_im_0)和第二个节点(conv1.conv/Conv2D)的特征维度是否一致:\n",
      "True\n",
      "特征维度: torch.Size([22])\n"
     ]
    }
   ],
   "source": [
    "from nn_meter.utils.graph_tool import ModelGraph\n",
    "import numpy as np\n",
    "import torch\n",
    "\n",
    "def get_unified_operator_features(model_graph):\n",
    "    \"\"\"\n",
    "    从ModelGraph中提取所有节点的算子特征，并确保特征维度一致\n",
    "    \n",
    "    返回:\n",
    "        node_features: 字典，键为节点名称，值为固定长度的特征向量\n",
    "        feature_names: 特征向量各维度的名称\n",
    "    \"\"\"\n",
    "    # 定义所有可能的特征维度及其顺序\n",
    "    feature_names = [\n",
    "        'type_placeholder', 'type_conv2d', 'type_relu', 'type_maxpool', \n",
    "        'type_mean', 'type_reshape', 'type_matmul',\n",
    "        'input_h', 'input_w', 'input_c', 'output_c',\n",
    "        'kernel_h', 'kernel_w', 'stride_h', 'stride_w',\n",
    "        'padding_valid', 'padding_same', 'reduction_indices',\n",
    "        'reshape_dim1', 'reshape_dim2', 'reshape_dim3', 'reshape_dim4'\n",
    "    ]\n",
    "    \n",
    "    node_features = {}\n",
    "    \n",
    "    for node_name in model_graph.get_graph().keys():\n",
    "        node_attr = model_graph.get_node_attr(node_name)\n",
    "        node_type = node_attr[\"type\"]\n",
    "        \n",
    "        # 初始化特征向量，默认值为0\n",
    "        feature_vector = np.zeros(len(feature_names), dtype=np.float32)\n",
    "        \n",
    "        # 设置算子类型的独热编码\n",
    "        type_indices = {\n",
    "            'Placeholder': 0, 'Conv2D': 1, 'Relu': 2, \n",
    "            'MaxPool': 3, 'Mean': 4, 'Reshape': 5, 'MatMul': 6\n",
    "        }\n",
    "        if node_type in type_indices:\n",
    "            feature_vector[type_indices[node_type]] = 1.0\n",
    "        \n",
    "        # 根据算子类型填充其他特征\n",
    "        if node_type == 'Placeholder':\n",
    "            shape = node_attr[\"attr\"][\"shape\"]\n",
    "            if len(shape) == 4:  # NHWC格式\n",
    "                feature_vector[7] = shape[1]  # input_h\n",
    "                feature_vector[8] = shape[2]  # input_w\n",
    "                feature_vector[9] = shape[3]  # input_c\n",
    "                \n",
    "        elif node_type == 'Conv2D':\n",
    "            kernel_shape = node_attr[\"attr\"][\"kernel_shape\"]\n",
    "            strides = node_attr[\"attr\"][\"strides\"]\n",
    "            padding = node_attr[\"attr\"][\"padding\"]\n",
    "            weight_shape = node_attr[\"attr\"][\"weight_shape\"]\n",
    "            \n",
    "            feature_vector[9] = weight_shape[2]  # input_c\n",
    "            feature_vector[10] = weight_shape[3]  # output_c\n",
    "            feature_vector[11] = kernel_shape[0]  # kernel_h\n",
    "            feature_vector[12] = kernel_shape[1]  # kernel_w\n",
    "            \n",
    "            # 处理不同长度的strides列表\n",
    "            if len(strides) == 4:  # 格式为 [1, h, w, 1]\n",
    "                feature_vector[13] = strides[1]  # stride_h\n",
    "                feature_vector[14] = strides[2]  # stride_w\n",
    "            elif len(strides) == 2:  # 格式为 [h, w]\n",
    "                feature_vector[13] = strides[0]  # stride_h\n",
    "                feature_vector[14] = strides[1]  # stride_w\n",
    "            \n",
    "            # 填充方式的独热编码\n",
    "            if padding == 'VALID':\n",
    "                feature_vector[15] = 1.0\n",
    "            elif padding == 'SAME':\n",
    "                feature_vector[16] = 1.0\n",
    "                \n",
    "        elif node_type == 'MaxPool':\n",
    "            ksize = node_attr[\"attr\"][\"ksize\"]\n",
    "            strides = node_attr[\"attr\"][\"strides\"]\n",
    "            padding = node_attr[\"attr\"][\"padding\"]\n",
    "            \n",
    "            # 处理不同长度的ksize列表\n",
    "            if len(ksize) == 4:  # 格式为 [1, h, w, 1]\n",
    "                feature_vector[11] = ksize[1]  # kernel_h\n",
    "                feature_vector[12] = ksize[2]  # kernel_w\n",
    "            elif len(ksize) == 2:  # 格式为 [h, w]\n",
    "                feature_vector[11] = ksize[0]  # kernel_h\n",
    "                feature_vector[12] = ksize[1]  # kernel_w\n",
    "            \n",
    "            # 处理不同长度的strides列表\n",
    "            if len(strides) == 4:  # 格式为 [1, h, w, 1]\n",
    "                feature_vector[13] = strides[1]  # stride_h\n",
    "                feature_vector[14] = strides[2]  # stride_w\n",
    "            elif len(strides) == 2:  # 格式为 [h, w]\n",
    "                feature_vector[13] = strides[0]  # stride_h\n",
    "                feature_vector[14] = strides[1]  # stride_w\n",
    "            \n",
    "            # 填充方式的独热编码\n",
    "            if padding == 'VALID':\n",
    "                feature_vector[15] = 1.0\n",
    "            elif padding == 'SAME':\n",
    "                feature_vector[16] = 1.0\n",
    "                \n",
    "        elif node_type == 'Mean':\n",
    "            reduction_indices = node_attr[\"attr\"][\"reduction_indices\"]\n",
    "            # 将reduction_indices编码为一个数字（简化处理）\n",
    "            if reduction_indices:\n",
    "                feature_vector[17] = sum(reduction_indices)\n",
    "                \n",
    "        elif node_type == 'Reshape':\n",
    "            shape = node_attr[\"attr\"][\"shape\"]\n",
    "            # 将reshape的目标形状编码到特征向量中\n",
    "            for i in range(min(len(shape), 4)):\n",
    "                feature_vector[18 + i] = shape[i]\n",
    "                \n",
    "        # 对于MatMul类型，特征向量已经由类型的独热编码填充\n",
    "        \n",
    "        # 保存特征向量\n",
    "        node_features[node_name] = torch.tensor(feature_vector, dtype=torch.float32)\n",
    "    \n",
    "    return node_features, feature_names\n",
    "\n",
    "# 使用示例\n",
    "model_graph = graph\n",
    "node_features, feature_names = get_unified_operator_features(model_graph)\n",
    "\n",
    "# 打印第一个和第二个节点的特征维度是否一致\n",
    "if node_features:\n",
    "    nodes = list(node_features.keys())\n",
    "    if len(nodes) >= 2:\n",
    "        print(f\"第一个节点({nodes[0]})和第二个节点({nodes[1]})的特征维度是否一致:\")\n",
    "        print(node_features[nodes[0]].shape == node_features[nodes[1]].shape)\n",
    "        print(f\"特征维度: {node_features[nodes[0]].shape}\")"
   ]
  },
  {
   "cell_type": "code",
   "execution_count": null,
   "id": "39d45bd5",
   "metadata": {},
   "outputs": [],
   "source": [
    "import dgl\n",
    "import networkx as nx\n",
    "import torch\n",
    "\n",
    "def convert_nx_to_dgl(nx_graph, node_features):\n",
    "    \"\"\"\n",
    "    将NetworkX图转换为DGL图，并保留节点特征\n",
    "    \n",
    "    参数:\n",
    "        nx_graph: NetworkX图对象\n",
    "        node_features: 节点特征字典，键为节点名称，值为特征张量\n",
    "    \n",
    "    返回:\n",
    "        dgl_graph: DGL图对象\n",
    "    \"\"\"\n",
    "    # 创建空的DGL图\n",
    "    dgl_graph = dgl.DGLGraph()\n",
    "    \n",
    "    # 添加节点\n",
    "    node_names = list(nx_graph.nodes())\n",
    "    dgl_graph.add_nodes(len(node_names))\n",
    "    \n",
    "    # 添加边\n",
    "    edges = list(nx_graph.edges())\n",
    "    src_nodes = [node_names.index(u) for u, v in edges]\n",
    "    dst_nodes = [node_names.index(v) for u, v in edges]\n",
    "    dgl_graph.add_edges(src_nodes, dst_nodes)\n",
    "    \n",
    "    # 设置节点特征\n",
    "    if node_features:\n",
    "        # 确保所有节点都有特征\n",
    "        for node_name in node_names:\n",
    "            if node_name not in node_features:\n",
    "                raise ValueError(f\"节点 {node_name} 没有对应的特征\")\n",
    "        \n",
    "        # 收集所有节点的特征\n",
    "        feature_list = [node_features[node_name] for node_name in node_names]\n",
    "        \n",
    "        # 将特征列表转换为张量\n",
    "        feature_tensor = torch.stack(feature_list, dim=0)\n",
    "        \n",
    "        # 设置节点特征\n",
    "        dgl_graph.ndata['feat'] = feature_tensor\n",
    "    \n",
    "    return dgl_graph\n",
    "\n",
    "# 使用示例\n",
    "nx_graph = model_graph.get_networkx_graph()  # 获取NetworkX图\n",
    "dgl_graph = convert_nx_to_dgl(nx_graph, node_features)\n",
    "\n",
    "# 打印DGL图的基本信息\n",
    "print(f\"节点数量: {dgl_graph.num_nodes()}\")\n",
    "print(f\"边的数量: {dgl_graph.num_edges()}\")\n",
    "print(f\"节点特征形状: {dgl_graph.ndata['feat'].shape}\")\n",
    "dgl_graph"
   ]
  },
  {
   "cell_type": "code",
   "execution_count": null,
   "id": "76331368",
   "metadata": {},
   "outputs": [
    {
     "name": "stdout",
     "output_type": "stream",
     "text": [
      "节点数量: 21\n",
      "边的数量: 20\n",
      "节点特征形状: torch.Size([21, 22])\n"
     ]
    },
    {
     "name": "stderr",
     "output_type": "stream",
     "text": [
      "/home/rtx4090/anaconda3/lib/python3.12/site-packages/dgl/heterograph.py:92: DGLWarning: Recommend creating graphs by `dgl.graph(data)` instead of `dgl.DGLGraph(data)`.\n",
      "  dgl_warning(\n"
     ]
    },
    {
     "data": {
      "text/plain": [
       "Graph(num_nodes=21, num_edges=20,\n",
       "      ndata_schemes={'feat': Scheme(shape=(22,), dtype=torch.float32)}\n",
       "      edata_schemes={})"
      ]
     },
     "execution_count": 31,
     "metadata": {},
     "output_type": "execute_result"
    }
   ],
   "source": []
  },
  {
   "cell_type": "code",
   "execution_count": null,
   "id": "7e84faef",
   "metadata": {},
   "outputs": [],
   "source": []
  }
 ],
 "metadata": {
  "kernelspec": {
   "display_name": "base",
   "language": "python",
   "name": "python3"
  },
  "language_info": {
   "codemirror_mode": {
    "name": "ipython",
    "version": 3
   },
   "file_extension": ".py",
   "mimetype": "text/x-python",
   "name": "python",
   "nbconvert_exporter": "python",
   "pygments_lexer": "ipython3",
   "version": "3.12.4"
  }
 },
 "nbformat": 4,
 "nbformat_minor": 5
}
